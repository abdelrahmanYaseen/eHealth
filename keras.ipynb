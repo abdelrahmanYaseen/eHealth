{
 "cells": [
  {
   "cell_type": "code",
   "execution_count": 1,
   "metadata": {
    "scrolled": false
   },
   "outputs": [
    {
     "name": "stderr",
     "output_type": "stream",
     "text": [
      "Using TensorFlow backend.\n"
     ]
    }
   ],
   "source": [
    "import numpy as np\n",
    "import pandas as pd\n",
    "import matplotlib.pyplot as plt\n",
    "\n",
    "from keras.models import Sequential\n",
    "from keras.layers import Dense\n",
    "from keras.wrappers.scikit_learn import KerasClassifier\n",
    "from keras.utils import np_utils\n",
    "from sklearn.model_selection import cross_val_score\n",
    "from sklearn.model_selection import KFold\n",
    "from sklearn.preprocessing import LabelEncoder\n",
    "from sklearn.pipeline import Pipeline\n",
    "\n",
    "Activities = [1,2,3,4,5,6,7,8,9,10,11]"
   ]
  },
  {
   "cell_type": "code",
   "execution_count": 2,
   "metadata": {},
   "outputs": [],
   "source": [
    "#preparing the data : Given a file, the function prepares 2 arrays\n",
    "\"\"\"\n",
    "feature_set : each element is an array of 50 readings\n",
    "targets : each element is a label corrisponding to the readings with the same index in feature_set\n",
    "\"\"\"\n",
    "def getSamplesFromFiles(filesNames=[\"mHealth_ECGProcessed_subject3.log\"],readingsPerSample=50):\n",
    "    targets  = np.array([])\n",
    "    feature_set= np.array([])\n",
    "    for fileName in filesNames:\n",
    "        df = pd.read_csv(fileName, header=None, delim_whitespace=True)\n",
    "        for i in range(int(df.shape[0]/readingsPerSample)):\n",
    "            if df[2][i*readingsPerSample:i*readingsPerSample+readingsPerSample].mean() in Activities:\n",
    "                feature_set=np.append(feature_set,[df[1][i*readingsPerSample:i*readingsPerSample+readingsPerSample]])\n",
    "                targets=np.append(targets,df[2][i*readingsPerSample:i*readingsPerSample+readingsPerSample].mean()-1)\n",
    "\n",
    "    feature_set=feature_set.reshape(int(feature_set.shape[0]/readingsPerSample),readingsPerSample)\n",
    "#     one_hot_labels=one_hot_labels.reshape(int(one_hot_labels.shape[0]/12),12)\n",
    "    return feature_set, targets\n",
    "def unison_shuffled_copies(a, b,seed=1):\n",
    "    assert len(a) == len(b)\n",
    "    np.random.seed(seed)\n",
    "    p = np.random.permutation(len(a))\n",
    "    return a[p], b[p]"
   ]
  },
  {
   "cell_type": "code",
   "execution_count": 10,
   "metadata": {},
   "outputs": [
    {
     "name": "stdout",
     "output_type": "stream",
     "text": [
      "(332, 100)\n",
      "{0.0: 30, 1.0: 30, 2.0: 30, 3.0: 29, 4.0: 29, 5.0: 32, 6.0: 32, 7.0: 31, 8.0: 30, 9.0: 30, 10.0: 29}\n"
     ]
    },
    {
     "data": {
      "text/plain": [
       "[<matplotlib.lines.Line2D at 0x19fd8362c88>]"
      ]
     },
     "execution_count": 10,
     "metadata": {},
     "output_type": "execute_result"
    },
    {
     "data": {
      "image/png": "[encoded data removed]",
      "text/plain": [
       "<Figure size 432x288 with 1 Axes>"
      ]
     },
     "metadata": {
      "needs_background": "light"
     },
     "output_type": "display_data"
    }
   ],
   "source": [
    "feature_set,targets=getSamplesFromFiles([\"mHealth_ECGProcessed_subject3.log\"],100)\n",
    "X,Y=unison_shuffled_copies(feature_set,targets)\n",
    "print(X.shape)\n",
    "# validation_targets.shape\n",
    "unique, counts = np.unique(Y, return_counts=True)\n",
    "print(dict(zip(unique, counts)))\n",
    "# plt.axis([0, 10, 100, 200])\n",
    "plt.plot(unique, counts)\n",
    "# X_train, X_test, y_train, y_test = train_test_split(feature_set, targets, test_size=0.33, random_state=10)\n",
    "# feature_set, validation_feature_set, targets, validation_targets = train_test_split(X_train, y_train, test_size=0.2, random_state=42)"
   ]
  },
  {
   "cell_type": "code",
   "execution_count": 11,
   "metadata": {},
   "outputs": [],
   "source": [
    "# encode class values as integers\n",
    "# encoder = LabelEncoder()\n",
    "# encoder.fit(Y)\n",
    "# encoded_Y = encoder.transform(Y)\n",
    "# # convert integers to dummy variables (i.e. one hot encoded)\n",
    "# dummy_y = np_utils.to_categorical(Y)\n",
    "dummy_y = Y"
   ]
  },
  {
   "cell_type": "code",
   "execution_count": 12,
   "metadata": {},
   "outputs": [],
   "source": [
    "# define baseline model\n",
    "def baseline_model():\n",
    "    # create model\n",
    "    model = Sequential()\n",
    "    model.add(Dense(100, input_dim=100, activation='relu'))\n",
    "    model.add(Dense(50, activation='relu'))\n",
    "    model.add(Dense(11, activation='softmax'))\n",
    "    # Compile model\n",
    "    model.compile(loss='sparse_categorical_crossentropy', optimizer='adam', metrics=['accuracy'])\n",
    "    return model"
   ]
  },
  {
   "cell_type": "code",
   "execution_count": 16,
   "metadata": {},
   "outputs": [],
   "source": [
    "estimator = KerasClassifier(build_fn=baseline_model, epochs=200, batch_size=2, verbose=0)"
   ]
  },
  {
   "cell_type": "code",
   "execution_count": 18,
   "metadata": {},
   "outputs": [],
   "source": [
    "kfold = KFold(n_splits=5, shuffle=True, random_state=1)"
   ]
  },
  {
   "cell_type": "code",
   "execution_count": 19,
   "metadata": {},
   "outputs": [
    {
     "name": "stdout",
     "output_type": "stream",
     "text": [
      "Baseline: 22.57% (5.27%)\n"
     ]
    }
   ],
   "source": [
    "results = cross_val_score(estimator, X, dummy_y, cv=kfold)\n",
    "print(\"Baseline: %.2f%% (%.2f%%)\" % (results.mean()*100, results.std()*100))"
   ]
  },
  {
   "cell_type": "code",
   "execution_count": null,
   "metadata": {},
   "outputs": [],
   "source": []
  }
 ],
 "metadata": {
  "kernelspec": {
   "display_name": "Python 3",
   "language": "python",
   "name": "python3"
  },
  "language_info": {
   "codemirror_mode": {
    "name": "ipython",
    "version": 3
   },
   "file_extension": ".py",
   "mimetype": "text/x-python",
   "name": "python",
   "nbconvert_exporter": "python",
   "pygments_lexer": "ipython3",
   "version": "3.7.1"
  }
 },
 "nbformat": 4,
 "nbformat_minor": 2
}
