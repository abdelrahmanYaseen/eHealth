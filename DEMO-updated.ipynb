{
 "cells": [
  {
   "cell_type": "markdown",
   "metadata": {},
   "source": [
    "# Plan \n",
    "## Simulating the sensors\n",
    "## Importing/creating the models\n",
    "## Implementing the anomaly detection"
   ]
  },
  {
   "cell_type": "code",
   "execution_count": 1,
   "metadata": {},
   "outputs": [],
   "source": [
    "import pandas as pd\n",
    "import numpy as np\n",
    "import os\n",
    "ORIGIN_PATH = os.getcwd()"
   ]
  },
  {
   "cell_type": "code",
   "execution_count": 3,
   "metadata": {},
   "outputs": [],
   "source": [
    "def getSubjectNum(fileName) :\n",
    "        import re\n",
    "        n = re.findall(r'\\d+', fileName)\n",
    "        return int(n[0])\n"
   ]
  },
  {
   "cell_type": "code",
   "execution_count": 4,
   "metadata": {},
   "outputs": [],
   "source": [
    "class acceleration_chest_X :\n",
    "     id =0\n",
    "     name = 'acceleration_chest_X'\n",
    "\n",
    "class acceleration_chest_Y :\n",
    "     id =1\n",
    "     name = 'acceleration_chest_Y'\n",
    "\n",
    "class acceleration_chest_Z :\n",
    "     id =2\n",
    "     name = 'acceleration_chest_Z'\n",
    "\n",
    "class ECG_lead_1 :\n",
    "     id=3\n",
    "     name = 'ECG_lead_1'\n",
    "\n",
    "class ECG_lead_2 :\n",
    "     id=4\n",
    "     name = 'ECG_lead_2'\n",
    "\n",
    "class acceleration_left_ankle_X :\n",
    "     id =5\n",
    "     name = 'acceleration_left_ankle_X'\n",
    "\n",
    "class acceleration_left_ankle_Y :\n",
    "     id =6\n",
    "     name = 'acceleration_left_ankle_Y'\n",
    "\n",
    "class acceleration_left_ankle_Z :\n",
    "     id =7\n",
    "     name = 'acceleration_left_ankle_Z'\n",
    "\n",
    "class gyro_left_ankle_X :\n",
    "     id =8\n",
    "     name = 'gyro_left_ankle_X'\n",
    "\n",
    "class gyro_left_ankle_Y :\n",
    "     id =9\n",
    "     name = 'gyro_left_ankle_Y'\n",
    "\n",
    "class gyro_left_ankle_Z :\n",
    "     id =10\n",
    "     name = 'gyro_left_ankle_Z'\n",
    "\n",
    "class magnetometer_left_ankle_X :\n",
    "     id =11\n",
    "     name = 'magnetometer_left_ankle_X'\n",
    "\n",
    "class magnetometer_left_ankle_Y :\n",
    "     id =12\n",
    "     name = 'magnetometer_left_ankle_Y'\n",
    "\n",
    "class magnetometer_left_ankle_Z :\n",
    "     id =13\n",
    "     name = 'magnetometer_left_ankle_Z'\n",
    "\n",
    "class acceleration_right_lower_arm_X :\n",
    "     id =14\n",
    "     name = 'acceleration_right_lower_arm_X'\n",
    "\n",
    "class acceleration_right_lower_arm_Y :\n",
    "     id =15\n",
    "     name = 'acceleration_right_lower_arm_Y'\n",
    "\n",
    "class acceleration_right_lower_arm_Z :\n",
    "     id =16\n",
    "     name = 'acceleration_right_lower_arm_Z'\n",
    "\n",
    "class gyro_right_lower_arm_X :\n",
    "     id =17\n",
    "     name = 'gyro_right_lower_arm_X'\n",
    "\n",
    "class gyro_right_lower_arm_Y :\n",
    "     id =18\n",
    "     name = 'gyro_right_lower_arm_Y'\n",
    "\n",
    "class gyro_right_lower_arm_Z :\n",
    "     id =19\n",
    "     name = 'gyro_right_lower_arm_Z'\n",
    "\n",
    "class magnetometer_right_lower_arm_X :\n",
    "     id =20\n",
    "     name = 'magnetometer_right_lower_arm_X'\n",
    "\n",
    "class magnetometer_right_lower_arm_Y :\n",
    "     id =21\n",
    "     name = 'magnetometer_right_lower_arm_Y'\n",
    "\n",
    "\n",
    "class magnetometer_right_lower_arm_Z :\n",
    "     id =22\n",
    "     name = 'magnetometer_right_lower_arm_Z'\n",
    "    "
   ]
  },
  {
   "cell_type": "code",
   "execution_count": 5,
   "metadata": {},
   "outputs": [],
   "source": [
    "class mHealthSensor:\n",
    "    def __init__(self,TYPE,freq=50,sourceData=\"mHealth_subject3.log\",realisitc=False):\n",
    "        self.frequency=freq\n",
    "        self.sourceData=sourceData\n",
    "        self.column=TYPE.id\n",
    "        self.name=TYPE.name\n",
    "        self.realisitc=realisitc\n",
    "        self.subjectNum=getSubjectNum(self.sourceData)\n",
    "        self.generateInputFile()\n",
    "        self.datapool=pd.DataFrame(np.array([]))\n",
    "    \n",
    "    def generateInputFile(self):\n",
    "        X =  np.array([])\n",
    "        Y =  np.array([])\n",
    "        df = pd.read_csv(self.sourceData, header=None, delim_whitespace=True)\n",
    "        df = df[df[23]!=0] #drop 0 labeled features\n",
    "        readings_df = pd.DataFrame(df[self.column].copy())\n",
    "        targets_df = pd.DataFrame(df[23].copy())\n",
    "        reading_np = readings_df.values\n",
    "\n",
    "        rps=self.frequency\n",
    "        activities=range(0,13)\n",
    "        \n",
    "        # #         segmentation\n",
    "        for i in range(int(readings_df.shape[0]/rps)):\n",
    "            if  float(targets_df[i*rps:i*rps+rps].mean()) in activities:\n",
    "                Y=np.append(Y,targets_df[i*rps:i*rps+rps].mean()) #new\n",
    "                X=np.append(X,readings_df[i*rps:i*rps+rps].values)\n",
    "\n",
    "        X=X.reshape(-1,rps)\n",
    "        OutDF = pd.DataFrame(X)\n",
    "        OutDF['labels']=Y\n",
    "        OutDF.reset_index\n",
    "        OutDF.to_csv(self.name+\"_subject\"+str(self.subjectNum), sep='\\t',index=False)\n",
    "\n",
    "    #returns value , target\n",
    "    def getReading(self,activity=1):\n",
    "        if self.realisitc:\n",
    "            import time\n",
    "            time.sleep(1)\n",
    "        if self.datapool.empty == True:\n",
    "            self.datapool= pd.read_csv(self.name+\"_subject\"+str(self.subjectNum), sep='\\t',index_col=False)\n",
    "        readings = self.datapool.loc[self.datapool.labels==activity,]\n",
    "        randIndex = np.random.randint(0,len(readings))\n",
    "        return np.array(readings.iloc[randIndex,range(0,self.frequency)]), readings.iloc[randIndex,self.frequency]\n"
   ]
  },
  {
   "cell_type": "markdown",
   "metadata": {},
   "source": [
    "# Trainers"
   ]
  },
  {
   "cell_type": "markdown",
   "metadata": {},
   "source": [
    "### Download from cloud"
   ]
  },
  {
   "cell_type": "code",
   "execution_count": 9,
   "metadata": {},
   "outputs": [
    {
     "name": "stdout",
     "output_type": "stream",
     "text": [
      "Collecting googledrivedownloader\n",
      "  Downloading https://files.pythonhosted.org/packages/3a/5c/485e8724383b482cc6c739f3359991b8a93fb9316637af0ac954729545c9/googledrivedownloader-0.4-py2.py3-none-any.whl\n",
      "Installing collected packages: googledrivedownloader\n",
      "Successfully installed googledrivedownloader-0.4\n"
     ]
    }
   ],
   "source": [
    "!pip install googledrivedownloader"
   ]
  },
  {
   "cell_type": "code",
   "execution_count": 10,
   "metadata": {},
   "outputs": [
    {
     "name": "stdout",
     "output_type": "stream",
     "text": [
      "Downloading 1ZKUsE9l-iHZ7_z7OKUpcG6BbiJhKsdy0 into MODELS\\ecg.sav... Done.\n",
      "Downloading 1WpZuJLhcMaI40DWGVPeJyijSWSsWngze into MODELS\\knn.sav... Done.\n"
     ]
    }
   ],
   "source": [
    "from google_drive_downloader import GoogleDriveDownloader as gdd\n",
    "if not os.path.isfile(os.path.join(\"MODELS\",\"ecg.sav\")):\n",
    "    gdd.download_file_from_google_drive(file_id='1ZKUsE9l-iHZ7_z7OKUpcG6BbiJhKsdy0',\n",
    "                                    dest_path=os.path.join(\"MODELS\",\"ecg.sav\"))\n",
    "if not os.path.isfile(os.path.join(\"MODELS\",\"knn.sav\")):\n",
    "    gdd.download_file_from_google_drive(file_id='1WpZuJLhcMaI40DWGVPeJyijSWSsWngze',\n",
    "                                    dest_path=os.path.join(\"MODELS\",\"knn.sav\"))"
   ]
  },
  {
   "cell_type": "code",
   "execution_count": 10,
   "metadata": {},
   "outputs": [],
   "source": [
    "from sklearn.externals import joblib\n",
    "ActuatorsPredictor = joblib.load(os.path.join(\"MODELS\",\"knn.sav\"))\n",
    "ECGPredictor = joblib.load(os.path.join(\"MODELS\",\"ecg.sav\"))"
   ]
  },
  {
   "cell_type": "markdown",
   "metadata": {},
   "source": [
    "## Threading"
   ]
  },
  {
   "cell_type": "code",
   "execution_count": 12,
   "metadata": {},
   "outputs": [
    {
     "name": "stdout",
     "output_type": "stream",
     "text": [
      "Collecting keyboard\n",
      "  Downloading https://files.pythonhosted.org/packages/8d/14/b7a8f46e750b5905b099f0ae164a00bc99fe2a3029b4d54ae978797d2c15/keyboard-0.13.3-py2.py3-none-any.whl (58kB)\n",
      "Installing collected packages: keyboard\n",
      "Successfully installed keyboard-0.13.3\n"
     ]
    }
   ],
   "source": [
    "!pip install keyboard"
   ]
  },
  {
   "cell_type": "code",
   "execution_count": 13,
   "metadata": {},
   "outputs": [],
   "source": [
    "import threading\n",
    "import time\n",
    "import os\n",
    "import random\n",
    "import keyboard\n",
    "from sklearn.externals import joblib\n",
    "from IPython.display import clear_output, display"
   ]
  },
  {
   "cell_type": "code",
   "execution_count": 14,
   "metadata": {},
   "outputs": [],
   "source": [
    "ACTUATOR_BUFFER=[]\n",
    "ECG_BUFFER=[]\n",
    "os.chdir(ORIGIN_PATH)\n",
    "source = os.path.join(ORIGIN_PATH,\"MHEALTHDATASET\",\"mHealth_subject3.log\")\n",
    "gyroSensor = mHealthSensor(TYPE=gyro_left_ankle_Z,freq=50,sourceData=source,realisitc=True)\n",
    "ECGSensor  = mHealthSensor(TYPE=ECG_lead_1,freq=50,sourceData=source,realisitc=True)\n",
    "ActuatorsPredictor=joblib.load(os.path.join(\"MODELS\",\"knn.sav\"))\n",
    "ECGPredictor=joblib.load(os.path.join(\"MODELS\",\"ecg.sav\"))\n",
    "\n",
    "\n",
    "def actuatorsThread(ACTUATOR_WRAPPER):\n",
    "    # while True:\n",
    "    #     time.sleep(0.5)\n",
    "    #     clear_output(wait=True)\n",
    "    #     if keyboard.is_pressed('a'):\n",
    "    ACTUATOR_WRAPPER[0],_=gyroSensor.getReading(activity=ACTUATOR_WRAPPER[1])\n",
    "    print(\"new Actuator data generated \", '-','true label:',_)\n",
    "        # else:\n",
    "        #     print(\"Actuator sensor NOT DETECTED\")\n",
    "        # time.sleep(0.5)\n",
    "        # if keyboard.is_pressed('t'):\n",
    "        #     return\n",
    "\n",
    "\n",
    "def ECGThread(ECG_WRAPPER):\n",
    "    # while True:\n",
    "        # time.sleep(0.5)\n",
    "        # clear_output(wait=True)\n",
    "        # if keyboard.is_pressed('e'):\n",
    "    ECG_WRAPPER[0],_=ECGSensor.getReading(activity=ECG_WRAPPER[1])\n",
    "    print(\"new ECG data generated :\", '-','true label:',_)\n",
    "        # else:\n",
    "        #     print(\"ECG sensor NOT DETECTED\")\n",
    "        # time.sleep(0.5)\n",
    "        # if keyboard.is_pressed('t'):\n",
    "        #     return\n",
    "\n",
    "def chA(x,ACTUATOR_WRAPPER):\n",
    "    ACTUATOR_WRAPPER[1]=x\n",
    "    print(\"The subject is doing activity number \",x)\n",
    "def chE(x,ACTUATOR_WRAPPER):\n",
    "    ECG_WRAPPER[1] = x\n",
    "    print(\"The heart rate of the subject is that of activity number \",x)\n",
    "def chBoth(x,ACTUATOR_WRAPPER,ECG_WRAPPER):\n",
    "    print(\"The subject is doing activity number \",x)\n",
    "    print(\"The heart rate of the subject is that of activity number \",x)\n",
    "    ACTUATOR_WRAPPER[1]=x\n",
    "    ECG_WRAPPER[1] = x\n",
    "    print(\"b\",x)\n",
    "\n",
    "target=1\n",
    "ACTUATOR_BUFFER=[]\n",
    "ECG_BUFFER=[]\n",
    "ACTUATOR_WRAPPER=[ACTUATOR_BUFFER,target]\n",
    "ECG_WRAPPER=[ECG_BUFFER,target]\n"
   ]
  },
  {
   "cell_type": "markdown",
   "metadata": {},
   "source": [
    "## Key bindings"
   ]
  },
  {
   "cell_type": "code",
   "execution_count": 15,
   "metadata": {},
   "outputs": [
    {
     "data": {
      "text/plain": [
       "<function keyboard.add_hotkey.<locals>.remove_()>"
      ]
     },
     "execution_count": 15,
     "metadata": {},
     "output_type": "execute_result"
    }
   ],
   "source": [
    "keyboard.add_hotkey(\"1\",chBoth,args=(1,ACTUATOR_WRAPPER,ECG_WRAPPER))\n",
    "keyboard.add_hotkey(\"2\",chBoth,args=(2,ACTUATOR_WRAPPER,ECG_WRAPPER))\n",
    "keyboard.add_hotkey(\"3\",chBoth,args=(3,ACTUATOR_WRAPPER,ECG_WRAPPER))\n",
    "keyboard.add_hotkey(\"4\",chBoth,args=(4,ACTUATOR_WRAPPER,ECG_WRAPPER))\n",
    "keyboard.add_hotkey(\"5\",chBoth,args=(5,ACTUATOR_WRAPPER,ECG_WRAPPER))\n",
    "keyboard.add_hotkey(\"6\",chBoth,args=(6,ACTUATOR_WRAPPER,ECG_WRAPPER))\n",
    "keyboard.add_hotkey(\"7\",chBoth,args=(7,ACTUATOR_WRAPPER,ECG_WRAPPER))\n",
    "keyboard.add_hotkey(\"8\",chBoth,args=(8,ACTUATOR_WRAPPER,ECG_WRAPPER))\n",
    "\n",
    "keyboard.add_hotkey(\"ctrl+1\",chA,args=(1,ACTUATOR_WRAPPER))\n",
    "keyboard.add_hotkey(\"shift+1\",chE,args=(1,ECG_WRAPPER))\n",
    "keyboard.add_hotkey(\"ctrl+2\",chA,args=(2,ACTUATOR_WRAPPER))\n",
    "keyboard.add_hotkey(\"shift+2\",chE,args=(2,ECG_WRAPPER))\n",
    "keyboard.add_hotkey(\"ctrl+3\",chA,args=(3,ACTUATOR_WRAPPER))\n",
    "keyboard.add_hotkey(\"shift+3\",chE,args=(3,ECG_WRAPPER))\n",
    "keyboard.add_hotkey(\"ctrl+4\",chA,args=(4,ACTUATOR_WRAPPER))\n",
    "keyboard.add_hotkey(\"shift+4\",chE,args=(4,ECG_WRAPPER))\n",
    "keyboard.add_hotkey(\"ctrl+5\",chA,args=(5,ACTUATOR_WRAPPER))\n",
    "keyboard.add_hotkey(\"shift+5\",chE,args=(5,ECG_WRAPPER))\n",
    "keyboard.add_hotkey(\"ctrl+6\",chA,args=(6,ACTUATOR_WRAPPER))\n",
    "keyboard.add_hotkey(\"shift+6\",chE,args=(6,ECG_WRAPPER))\n",
    "keyboard.add_hotkey(\"ctrl+7\",chA,args=(7,ACTUATOR_WRAPPER))\n",
    "keyboard.add_hotkey(\"shift+7\",chE,args=(7,ECG_WRAPPER))\n",
    "keyboard.add_hotkey(\"ctrl+8\",chA,args=(8,ACTUATOR_WRAPPER))\n",
    "keyboard.add_hotkey(\"shift+8\",chE,args=(8,ECG_WRAPPER))\n",
    "# keyboard.add_hotkey(\"r\",startThreads,args=(t1,t2))\n",
    "keyboard.add_hotkey(\"e\",ECGThread,args=(ECG_WRAPPER,))\n",
    "keyboard.add_hotkey(\"a\",actuatorsThread,args=(ACTUATOR_WRAPPER,))\n"
   ]
  },
  {
   "cell_type": "code",
   "execution_count": 24,
   "metadata": {},
   "outputs": [],
   "source": [
    "def actuatorsThread(ACTUATOR_WRAPPER):\n",
    "    while True:\n",
    "        time.sleep(0.5)\n",
    "        clear_output(wait=True)\n",
    "        if not keyboard.is_pressed('2'):\n",
    "            ACTUATOR_WRAPPER[0],_=gyroSensor.getReading()\n",
    "            print(\"Actuator sensor detected: \",len(ACTUATOR_WRAPPER[0]))\n",
    "        else:\n",
    "            print(\"Actuator sensor NOT DETECTED\")\n",
    "        time.sleep(0.5)\n",
    "        if keyboard.is_pressed('t'):\n",
    "            return\n",
    "    "
   ]
  },
  {
   "cell_type": "code",
   "execution_count": 25,
   "metadata": {},
   "outputs": [],
   "source": [
    "def ECGThread(ECG_BUFFER):\n",
    "    while True:\n",
    "        time.sleep(0.5)\n",
    "        clear_output(wait=True)\n",
    "        if not keyboard.is_pressed('1'):\n",
    "            ECG_BUFFER[0],_=ECGSensor.getReading()\n",
    "            print(\"ECG sensor detected :\", len(ECG_BUFFER[0]))\n",
    "        else:\n",
    "            print(\"ECG sensor NOT DETECTED\")\n",
    "        time.sleep(0.5)\n",
    "        if keyboard.is_pressed('t'):\n",
    "            return"
   ]
  },
  {
   "cell_type": "code",
   "execution_count": 26,
   "metadata": {},
   "outputs": [
    {
     "name": "stdout",
     "output_type": "stream",
     "text": [
      "Activity Predicted (via GYR):  [1.]\n",
      "Activity Predicted (via ECG):  [0.]\n",
      "No readings : 0 ,  0\n",
      "No readings : 0 ,  0\n",
      "No readings : 0 ,  0\n",
      "No readings : 0 ,  0\n",
      "No readings : 0 ,  0\n",
      "No readings : 0 ,  0\n",
      "No readings : 0 ,  0\n",
      "No readings : 0 ,  0\n",
      "No readings : 0 ,  0\n",
      "No readings : 0 ,  0\n",
      "No readings : 0 ,  0\n",
      "No readings : 0 ,  0\n",
      "No readings : 0 ,  0\n",
      "No readings : 0 ,  0\n",
      "The subject is doing activity number  1\n",
      "The heart rate of the subject is that of activity number  1\n",
      "b 1\n",
      "The subject is doing activity number  2\n",
      "The heart rate of the subject is that of activity number  2\n",
      "b 2\n",
      "The subject is doing activity number  3\n",
      "The heart rate of the subject is that of activity number  3\n",
      "b 3\n",
      "No readings : 0 ,  0\n",
      "No readings : 0 ,  0\n",
      "No readings : 0 ,  0\n",
      "No readings : 0 ,  0\n",
      "No readings : 0 ,  0\n",
      "No readings : 0 ,  0\n",
      "No readings : 0 ,  0\n",
      "No readings : 0 ,  0\n",
      "No readings : 0 ,  0\n",
      "No readings : 0 ,  0\n",
      "No readings : 0 ,  0\n",
      "No readings : 0 ,  0\n"
     ]
    },
    {
     "ename": "KeyboardInterrupt",
     "evalue": "",
     "output_type": "error",
     "traceback": [
      "\u001b[1;31m---------------------------------------------------------------------------\u001b[0m",
      "\u001b[1;31mKeyboardInterrupt\u001b[0m                         Traceback (most recent call last)",
      "\u001b[1;32m<ipython-input-26-05300e33dad1>\u001b[0m in \u001b[0;36m<module>\u001b[1;34m\u001b[0m\n\u001b[0;32m      1\u001b[0m \u001b[1;32mwhile\u001b[0m\u001b[1;33m(\u001b[0m\u001b[1;32mTrue\u001b[0m\u001b[1;33m)\u001b[0m\u001b[1;33m:\u001b[0m\u001b[1;33m\u001b[0m\u001b[1;33m\u001b[0m\u001b[0m\n\u001b[0;32m      2\u001b[0m     \u001b[1;31m# activity=np.random.randint(1,13)\u001b[0m\u001b[1;33m\u001b[0m\u001b[1;33m\u001b[0m\u001b[1;33m\u001b[0m\u001b[0m\n\u001b[1;32m----> 3\u001b[1;33m     \u001b[0mtime\u001b[0m\u001b[1;33m.\u001b[0m\u001b[0msleep\u001b[0m\u001b[1;33m(\u001b[0m\u001b[1;36m1\u001b[0m\u001b[1;33m)\u001b[0m\u001b[1;33m\u001b[0m\u001b[1;33m\u001b[0m\u001b[0m\n\u001b[0m\u001b[0;32m      4\u001b[0m     \u001b[1;32mif\u001b[0m \u001b[1;33m(\u001b[0m\u001b[0mlen\u001b[0m\u001b[1;33m(\u001b[0m\u001b[0mECG_WRAPPER\u001b[0m\u001b[1;33m[\u001b[0m\u001b[1;36m0\u001b[0m\u001b[1;33m]\u001b[0m\u001b[1;33m)\u001b[0m\u001b[1;33m>\u001b[0m\u001b[1;36m0\u001b[0m\u001b[1;33m)\u001b[0m \u001b[1;32mand\u001b[0m \u001b[1;33m(\u001b[0m\u001b[0mlen\u001b[0m\u001b[1;33m(\u001b[0m\u001b[0mACTUATOR_WRAPPER\u001b[0m\u001b[1;33m[\u001b[0m\u001b[1;36m0\u001b[0m\u001b[1;33m]\u001b[0m\u001b[1;33m)\u001b[0m\u001b[1;33m>\u001b[0m\u001b[1;36m0\u001b[0m\u001b[1;33m)\u001b[0m\u001b[1;33m:\u001b[0m\u001b[1;33m\u001b[0m\u001b[1;33m\u001b[0m\u001b[0m\n\u001b[0;32m      5\u001b[0m         \u001b[0mActivity_predited_ECG\u001b[0m \u001b[1;33m=\u001b[0m \u001b[0mECGPredictor\u001b[0m\u001b[1;33m.\u001b[0m\u001b[0mpredict\u001b[0m\u001b[1;33m(\u001b[0m\u001b[0mnp\u001b[0m\u001b[1;33m.\u001b[0m\u001b[0marray\u001b[0m\u001b[1;33m(\u001b[0m\u001b[0mECG_WRAPPER\u001b[0m\u001b[1;33m[\u001b[0m\u001b[1;36m0\u001b[0m\u001b[1;33m]\u001b[0m\u001b[1;33m)\u001b[0m\u001b[1;33m.\u001b[0m\u001b[0mreshape\u001b[0m\u001b[1;33m(\u001b[0m\u001b[1;36m1\u001b[0m\u001b[1;33m,\u001b[0m \u001b[1;33m-\u001b[0m\u001b[1;36m1\u001b[0m\u001b[1;33m)\u001b[0m\u001b[1;33m)\u001b[0m\u001b[1;33m\u001b[0m\u001b[1;33m\u001b[0m\u001b[0m\n",
      "\u001b[1;31mKeyboardInterrupt\u001b[0m: "
     ]
    }
   ],
   "source": [
    "while(True):\n",
    "    # activity=np.random.randint(1,13)\n",
    "    time.sleep(1)\n",
    "    if (len(ECG_WRAPPER[0])>0) and (len(ACTUATOR_WRAPPER[0])>0):\n",
    "        Activity_predited_ECG = ECGPredictor.predict(np.array(ECG_WRAPPER[0]).reshape(1, -1))\n",
    "        Activity_predited_GYR = ActuatorsPredictor.predict(np.array(ACTUATOR_WRAPPER[0]).reshape(1, -1))\n",
    "        # print(Activity_predited_ECG,'<-E-|',ECG_WRAPPER[1],':',ACTUATOR_WRAPPER[1],'|-A->',Activity_predited_GYR)\n",
    "        print(\"Activity Predicted (via GYR): \",Activity_predited_GYR)\n",
    "        print(\"Activity Predicted (via ECG): \",Activity_predited_ECG)\n",
    "        if Activity_predited_ECG == Activity_predited_GYR:\n",
    "            print(\">> \", t)\n",
    "            t+=1\n",
    "        ECG_WRAPPER[0]=[]\n",
    "        ACTUATOR_WRAPPER[0]=[]\n",
    "    else:\n",
    "        print(\"No readings :\",len(ECG_WRAPPER[0]),\", \",len(ACTUATOR_WRAPPER[0]))"
   ]
  },
  {
   "cell_type": "markdown",
   "metadata": {},
   "source": [
    "### import sys\n",
    "import subprocess\n",
    "path = \"C:\\\\Users\\\\pcroot\\\\Desktop\\\\jj.jpeg\"\n",
    "# def openImage(path):\n",
    "imageViewerFromCommandLine = {'linux':'xdg-open',\n",
    "                              'win32':'explorer',\n",
    "                              'darwin':'open'}[sys.platform]\n",
    "subprocess.run([imageViewerFromCommandLine, path])"
   ]
  },
  {
   "cell_type": "code",
   "execution_count": null,
   "metadata": {},
   "outputs": [],
   "source": []
  },
  {
   "cell_type": "code",
   "execution_count": null,
   "metadata": {},
   "outputs": [],
   "source": []
  },
  {
   "cell_type": "code",
   "execution_count": null,
   "metadata": {},
   "outputs": [],
   "source": []
  },
  {
   "cell_type": "code",
   "execution_count": null,
   "metadata": {},
   "outputs": [],
   "source": []
  },
  {
   "cell_type": "code",
   "execution_count": null,
   "metadata": {},
   "outputs": [],
   "source": []
  },
  {
   "cell_type": "code",
   "execution_count": null,
   "metadata": {},
   "outputs": [],
   "source": []
  },
  {
   "cell_type": "code",
   "execution_count": null,
   "metadata": {},
   "outputs": [],
   "source": []
  },
  {
   "cell_type": "code",
   "execution_count": null,
   "metadata": {},
   "outputs": [],
   "source": []
  },
  {
   "cell_type": "code",
   "execution_count": null,
   "metadata": {},
   "outputs": [],
   "source": []
  },
  {
   "cell_type": "code",
   "execution_count": null,
   "metadata": {},
   "outputs": [],
   "source": []
  },
  {
   "cell_type": "code",
   "execution_count": null,
   "metadata": {},
   "outputs": [],
   "source": []
  },
  {
   "cell_type": "code",
   "execution_count": null,
   "metadata": {},
   "outputs": [],
   "source": []
  },
  {
   "cell_type": "code",
   "execution_count": null,
   "metadata": {},
   "outputs": [],
   "source": []
  },
  {
   "cell_type": "code",
   "execution_count": null,
   "metadata": {},
   "outputs": [],
   "source": []
  },
  {
   "cell_type": "code",
   "execution_count": null,
   "metadata": {},
   "outputs": [],
   "source": []
  },
  {
   "cell_type": "code",
   "execution_count": null,
   "metadata": {},
   "outputs": [],
   "source": []
  },
  {
   "cell_type": "code",
   "execution_count": null,
   "metadata": {},
   "outputs": [],
   "source": []
  },
  {
   "cell_type": "code",
   "execution_count": null,
   "metadata": {},
   "outputs": [],
   "source": []
  },
  {
   "cell_type": "code",
   "execution_count": null,
   "metadata": {},
   "outputs": [],
   "source": []
  },
  {
   "cell_type": "code",
   "execution_count": null,
   "metadata": {},
   "outputs": [],
   "source": []
  },
  {
   "cell_type": "code",
   "execution_count": null,
   "metadata": {},
   "outputs": [],
   "source": []
  },
  {
   "cell_type": "code",
   "execution_count": null,
   "metadata": {},
   "outputs": [],
   "source": []
  },
  {
   "cell_type": "code",
   "execution_count": null,
   "metadata": {},
   "outputs": [],
   "source": []
  },
  {
   "cell_type": "code",
   "execution_count": null,
   "metadata": {},
   "outputs": [],
   "source": []
  },
  {
   "cell_type": "code",
   "execution_count": null,
   "metadata": {},
   "outputs": [],
   "source": []
  },
  {
   "cell_type": "code",
   "execution_count": null,
   "metadata": {},
   "outputs": [],
   "source": []
  },
  {
   "cell_type": "code",
   "execution_count": null,
   "metadata": {},
   "outputs": [],
   "source": []
  },
  {
   "cell_type": "code",
   "execution_count": null,
   "metadata": {},
   "outputs": [],
   "source": []
  },
  {
   "cell_type": "code",
   "execution_count": null,
   "metadata": {},
   "outputs": [],
   "source": []
  },
  {
   "cell_type": "code",
   "execution_count": null,
   "metadata": {},
   "outputs": [],
   "source": []
  },
  {
   "cell_type": "code",
   "execution_count": null,
   "metadata": {},
   "outputs": [],
   "source": []
  },
  {
   "cell_type": "code",
   "execution_count": null,
   "metadata": {},
   "outputs": [],
   "source": []
  },
  {
   "cell_type": "code",
   "execution_count": null,
   "metadata": {},
   "outputs": [],
   "source": []
  },
  {
   "cell_type": "code",
   "execution_count": 6,
   "metadata": {},
   "outputs": [
    {
     "name": "stdout",
     "output_type": "stream",
     "text": [
      "asd\n",
      "asd\n"
     ]
    }
   ],
   "source": [
    "a = input()\n",
    "print(a)"
   ]
  },
  {
   "cell_type": "code",
   "execution_count": null,
   "metadata": {},
   "outputs": [],
   "source": []
  }
 ],
 "metadata": {
  "kernelspec": {
   "display_name": "Python 3",
   "language": "python",
   "name": "python3"
  },
  "language_info": {
   "codemirror_mode": {
    "name": "ipython",
    "version": 3
   },
   "file_extension": ".py",
   "mimetype": "text/x-python",
   "name": "python",
   "nbconvert_exporter": "python",
   "pygments_lexer": "ipython3",
   "version": "3.7.3"
  }
 },
 "nbformat": 4,
 "nbformat_minor": 2
}
