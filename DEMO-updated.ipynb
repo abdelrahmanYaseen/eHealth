{
 "cells": [
  {
   "cell_type": "markdown",
   "metadata": {},
   "source": [
    "# Plan \n",
    "## Simulating the sensors\n",
    "## Importing/creating the models\n",
    "## Implementing the anomaly detection"
   ]
  },
  {
   "cell_type": "code",
   "execution_count": 5,
   "metadata": {},
   "outputs": [],
   "source": [
    "import pandas as pd\n",
    "import numpy as np\n",
    "import os\n",
    "ORIGIN_PATH = os.getcwd()"
   ]
  },
  {
   "cell_type": "code",
   "execution_count": 2,
   "metadata": {},
   "outputs": [],
   "source": [
    "def getSubjectNum(fileName) :\n",
    "        import re\n",
    "        n = re.findall(r'\\d+', fileName)\n",
    "        return int(n[0])\n"
   ]
  },
  {
   "cell_type": "code",
   "execution_count": 75,
   "metadata": {},
   "outputs": [],
   "source": [
    "class acceleration_chest_X :\n",
    "     id =0\n",
    "     name = 'acceleration_chest_X'\n",
    "\n",
    "class acceleration_chest_Y :\n",
    "     id =1\n",
    "     name = 'acceleration_chest_Y'\n",
    "\n",
    "class acceleration_chest_Z :\n",
    "     id =2\n",
    "     name = 'acceleration_chest_Z'\n",
    "\n",
    "class ECG_lead_1 :\n",
    "     id=3\n",
    "     name = 'ECG_lead_1'\n",
    "\n",
    "class ECG_lead_2 :\n",
    "     id=4\n",
    "     name = 'ECG_lead_2'\n",
    "\n",
    "class acceleration_left_ankle_X :\n",
    "     id =5\n",
    "     name = 'acceleration_left_ankle_X'\n",
    "\n",
    "class acceleration_left_ankle_Y :\n",
    "     id =6\n",
    "     name = 'acceleration_left_ankle_Y'\n",
    "\n",
    "class acceleration_left_ankle_Z :\n",
    "     id =7\n",
    "     name = 'acceleration_left_ankle_Z'\n",
    "\n",
    "class gyro_left_ankle_X :\n",
    "     id =8\n",
    "     name = 'gyro_left_ankle_X'\n",
    "\n",
    "class gyro_left_ankle_Y :\n",
    "     id =9\n",
    "     name = 'gyro_left_ankle_Y'\n",
    "\n",
    "class gyro_left_ankle_Z :\n",
    "     id =10\n",
    "     name = 'gyro_left_ankle_Z'\n",
    "\n",
    "class magnetometer_left_ankle_X :\n",
    "     id =11\n",
    "     name = 'magnetometer_left_ankle_X'\n",
    "\n",
    "class magnetometer_left_ankle_Y :\n",
    "     id =12\n",
    "     name = 'magnetometer_left_ankle_Y'\n",
    "\n",
    "class magnetometer_left_ankle_Z :\n",
    "     id =13\n",
    "     name = 'magnetometer_left_ankle_Z'\n",
    "\n",
    "class acceleration_right_lower_arm_X :\n",
    "     id =14\n",
    "     name = 'acceleration_right_lower_arm_X'\n",
    "\n",
    "class acceleration_right_lower_arm_Y :\n",
    "     id =15\n",
    "     name = 'acceleration_right_lower_arm_Y'\n",
    "\n",
    "class acceleration_right_lower_arm_Z :\n",
    "     id =16\n",
    "     name = 'acceleration_right_lower_arm_Z'\n",
    "\n",
    "class gyro_right_lower_arm_X :\n",
    "     id =17\n",
    "     name = 'gyro_right_lower_arm_X'\n",
    "\n",
    "class gyro_right_lower_arm_Y :\n",
    "     id =18\n",
    "     name = 'gyro_right_lower_arm_Y'\n",
    "\n",
    "class gyro_right_lower_arm_Z :\n",
    "     id =19\n",
    "     name = 'gyro_right_lower_arm_Z'\n",
    "\n",
    "class magnetometer_right_lower_arm_X :\n",
    "     id =20\n",
    "     name = 'magnetometer_right_lower_arm_X'\n",
    "\n",
    "class magnetometer_right_lower_arm_Y :\n",
    "     id =21\n",
    "     name = 'magnetometer_right_lower_arm_Y'\n",
    "\n",
    "\n",
    "class magnetometer_right_lower_arm_Z :\n",
    "     id =22\n",
    "     name = 'magnetometer_right_lower_arm_Z'\n",
    "    "
   ]
  },
  {
   "cell_type": "code",
   "execution_count": 79,
   "metadata": {},
   "outputs": [],
   "source": [
    "class mHealthSensor:\n",
    "    def __init__(self,TYPE,freq=50,sourceData=\"mHealth_subject3.log\",realisitc=False):\n",
    "        self.frequency=freq\n",
    "        self.sourceData=sourceData\n",
    "        self.column=TYPE.id\n",
    "        self.name=TYPE.name\n",
    "        self.realisitc=realisitc\n",
    "        self.subjectNum=getSubjectNum(self.sourceData)\n",
    "        self.generateInputFile()\n",
    "        self.datapool=pd.DataFrame(np.array([]))\n",
    "        \n",
    "        \n",
    "    \n",
    "    def generateInputFile(self):\n",
    "        X =  np.array([])\n",
    "        Y =  np.array([])\n",
    "        df = pd.read_csv(self.sourceData, header=None, delim_whitespace=True)\n",
    "        df = df[df[23]!=0] #drop 0 labeled features\n",
    "        readings_df = pd.DataFrame(df[self.column].copy())\n",
    "        targets_df = pd.DataFrame(df[23].copy())\n",
    "        reading_np = readings_df.values\n",
    "\n",
    "        rps=self.frequency\n",
    "        activities=range(0,13)\n",
    "        \n",
    "        # #         segmentation\n",
    "        for i in range(int(readings_df.shape[0]/rps)):\n",
    "            if  float(targets_df[i*rps:i*rps+rps].mean()) in activities:\n",
    "                Y=np.append(Y,targets_df[i*rps:i*rps+rps].mean()) #new\n",
    "                X=np.append(X,readings_df[i*rps:i*rps+rps].values)\n",
    "\n",
    "        X=X.reshape(-1,rps)\n",
    "        OutDF = pd.DataFrame(X)\n",
    "        OutDF['labels']=Y\n",
    "        OutDF.reset_index\n",
    "        OutDF.to_csv(self.name+\"_subject\"+str(self.subjectNum), sep='\\t',index=False)\n",
    "\n",
    "    #returns value , target\n",
    "    def getReading(self,activity=1):\n",
    "        if self.realisitc:\n",
    "            import time\n",
    "            time.sleep(1)\n",
    "        if self.datapool.empty == True:\n",
    "            self.datapool= pd.read_csv(self.name+\"_subject\"+str(self.subjectNum), sep='\\t',index_col=False)\n",
    "        readings = self.datapool.loc[self.datapool.labels==activity,]\n",
    "        randIndex = np.random.randint(0,len(readings))\n",
    "        return np.array(readings.iloc[randIndex,range(0,self.frequency)]), readings.iloc[randIndex,self.frequency]\n"
   ]
  },
  {
   "cell_type": "code",
   "execution_count": 81,
   "metadata": {},
   "outputs": [],
   "source": [
    "os.chdir(ORIGIN_PATH)\n",
    "source = os.path.join(ORIGIN_PATH,\"MHEALTHDATASET\",\"mHealth_subject3.log\")\n",
    "gyro = mHealthSensor(TYPE=gyro_left_ankle_X,freq=10,sourceData=source,realisitc=True)\n",
    "ECG  =mHealthSensor(TYPE=ECG_lead_1,freq=50,sourceData=source,realisitc=True)"
   ]
  },
  {
   "cell_type": "code",
   "execution_count": 68,
   "metadata": {},
   "outputs": [
    {
     "data": {
      "text/plain": [
       "(array([-0.80795  , -0.7619   , -0.72004  , -0.69492  , -0.66143  ,\n",
       "        -0.69492  , -0.79121  , -0.86238  , -0.84563  , -0.79121  ,\n",
       "        -0.77028  , -0.79121  , -0.75353  , -0.7033   , -0.70748  ,\n",
       "        -0.68237  , -0.67399  , -0.65306  , -0.58189  , -0.50235  ,\n",
       "        -0.40188  , -0.55678  , -0.5484   , -0.50235  , -0.50235  ,\n",
       "        -0.19676  ,  3.3239   , -0.4898   , -0.17164  , -0.23862  ,\n",
       "        -0.18001  , -0.10884  , -0.066981 ,  0.016745 ,  0.062794 ,\n",
       "         0.058608 ,  0.041863 , -0.020931 , -0.0041863,  0.054422 ,\n",
       "         0.12977  ,  0.15908  ,  0.18838  ,  0.25955  ,  0.24699  ,\n",
       "         0.26792  ,  0.28467  ,  0.2763   ,  0.3056   ,  0.35165  ]), 1.0)"
      ]
     },
     "execution_count": 68,
     "metadata": {},
     "output_type": "execute_result"
    }
   ],
   "source": [
    "ECG.getReading()"
   ]
  },
  {
   "cell_type": "code",
   "execution_count": 4,
   "metadata": {},
   "outputs": [],
   "source": [
    "from sklearn.neighbors import KNeighborsClassifier\n",
    "#minValuesPerClass = The minimum readings per class required for good accuracy\n",
    "class ActuatorsBasedModel:\n",
    "    def __init__(self,sensor=None,minValuesPerClass=30):\n",
    "        self.model=None\n",
    "        pass\n",
    "    def train(self,X,Y):\n",
    "        self.model=  KNeighborsClassifier(n_neighbors=1)\n",
    "        self.model.fit(X,Y)\n",
    "    def predict(self,X):\n",
    "        if self.model == None:\n",
    "            print(\"Not trained yet\")\n",
    "        else:\n",
    "            return self.model.predict(X)\n",
    "    def reportAccuracy(self,sensor):\n",
    "        t=0\n",
    "        tot=1000\n",
    "        for i in range(tot):\n",
    "            x,y = sensor.getReading(np.random.randint(1,13))\n",
    "            x = np.array(x).reshape(-1,50)\n",
    "            if(y==self.predict(x)):\n",
    "                t+=1\n",
    "        return t/tot"
   ]
  },
  {
   "cell_type": "code",
   "execution_count": 223,
   "metadata": {},
   "outputs": [
    {
     "data": {
      "text/plain": [
       "0.925"
      ]
     },
     "execution_count": 223,
     "metadata": {},
     "output_type": "execute_result"
    }
   ],
   "source": [
    "\n",
    "########################################\n",
    "######Should be embedded somewhere######\n",
    "X=[]\n",
    "Y=[]\n",
    "G = GyroSensor()\n",
    "for i in range(30):\n",
    "    for activity in range(1,13):\n",
    "        x,y = G.getReading(activity)\n",
    "        X+=list(x)\n",
    "        Y+=[y]\n",
    "X=np.array(X).reshape(-1,50)\n",
    "########################################\n",
    "\n",
    "a=ActuatorsBasedModel()\n",
    "a.train(X,Y)\n",
    "a.reportAccuracy(G)"
   ]
  },
  {
   "cell_type": "code",
   "execution_count": 225,
   "metadata": {},
   "outputs": [
    {
     "data": {
      "text/plain": [
       "0.924"
      ]
     },
     "execution_count": 225,
     "metadata": {},
     "output_type": "execute_result"
    }
   ],
   "source": [
    "a.reportAccuracy(G)"
   ]
  },
  {
   "cell_type": "markdown",
   "metadata": {},
   "source": [
    "# ECG"
   ]
  },
  {
   "cell_type": "code",
   "execution_count": 5,
   "metadata": {},
   "outputs": [],
   "source": [
    "class ECGSensor:\n",
    "    def __init__(self,freq=50,rawdataFileName=\"mHealth_subject3.log\"):\n",
    "        self.frequency=50\n",
    "        self.rawdata=\"mHealth_subject3.log\"\n",
    "        self.subjectNum=getSubjectNum(self.rawdata)\n",
    "        \n",
    "        self.generateInputFile()\n",
    "        self.datapool=pd.DataFrame(np.array([]))\n",
    "    \n",
    "    def generateInputFile(self):\n",
    "        X =  np.array([])\n",
    "        Y =  np.array([])\n",
    "        df = pd.read_csv(self.rawdata, header=None, delim_whitespace=True)\n",
    "        df = df[df[23]!=0] #drop 0 labeled features\n",
    "        readings_df = pd.DataFrame(df[3].copy())\n",
    "        targets_df = pd.DataFrame(df[23].copy())\n",
    "        reading_np = readings_df.values\n",
    "\n",
    "        rps=self.frequency\n",
    "        activities=range(1,13)\n",
    "        # #         segmentation\n",
    "        for i in range(int(readings_df.shape[0]/rps)):\n",
    "            if  float(targets_df[i*rps:i*rps+rps].mean()) in activities:\n",
    "                Y=np.append(Y,targets_df[i*rps:i*rps+rps].mean()) #new\n",
    "                X=np.append(X,readings_df[i*rps:i*rps+rps].values)\n",
    "\n",
    "        X=X.reshape(-1,rps)\n",
    "        OutDF = pd.DataFrame(X)\n",
    "        OutDF['labels']=Y\n",
    "        OutDF.reset_index\n",
    "        OutDF.to_csv(\"ECG_subject\"+str(self.subjectNum), sep='\\t',index=False)\n",
    "\n",
    "    #returns value , target\n",
    "    def getReading(self,activity=1):\n",
    "        if self.datapool.empty == True:\n",
    "            self.datapool= pd.read_csv(\"ECG_subject\"+str(self.subjectNum), sep='\\t',index_col=False)\n",
    "        readings = self.datapool.loc[df.labels==activity,]\n",
    "        randIndex = np.random.randint(0,len(readings))\n",
    "        return np.array(readings.iloc[randIndex,range(0,self.frequency)]), readings.iloc[randIndex,self.frequency]\n"
   ]
  },
  {
   "cell_type": "code",
   "execution_count": 247,
   "metadata": {},
   "outputs": [],
   "source": [
    "from sklearn.neighbors import KNeighborsClassifier\n",
    "#minValuesPerClass = The minimum readings per class required for good accuracy\n",
    "class ECGBasedModel:\n",
    "    def __init__(self,sensor=None,minValuesPerClass=30):\n",
    "        self.model=None\n",
    "        pass\n",
    "    def train(self,X,Y):\n",
    "        self.model=  KNeighborsClassifier(n_neighbors=1)\n",
    "        self.model.fit(X,Y)\n",
    "    def predict(self,X):\n",
    "        if self.model == None:\n",
    "            print(\"Not trained yet\")\n",
    "        else:\n",
    "            return self.model.predict(X)\n",
    "    def reportAccuracy(self,sensor):\n",
    "        t=0\n",
    "        tot=1000\n",
    "        for i in range(tot):\n",
    "            x,y = sensor.getReading(np.random.randint(1,13))\n",
    "            x = np.array(x).reshape(-1,50)\n",
    "            if(y==self.predict(x)):\n",
    "                t+=1\n",
    "        return t/tot"
   ]
  },
  {
   "cell_type": "code",
   "execution_count": 260,
   "metadata": {},
   "outputs": [
    {
     "data": {
      "text/plain": [
       "array([1.])"
      ]
     },
     "execution_count": 260,
     "metadata": {},
     "output_type": "execute_result"
    }
   ],
   "source": [
    "\n",
    "########################################\n",
    "######Should be embedded somewhere######\n",
    "X=[]\n",
    "Y=[]\n",
    "G = ECGSensor(freq=50,rawdataFileName=\"mHealth_subject3.log\")\n",
    "for i in range(30):\n",
    "    for activity in range(1,13):\n",
    "        x,y = G.getReading(activity)\n",
    "        X+=list(x)\n",
    "        Y+=[y]\n",
    "X=np.array(X).reshape(-1,50)\n",
    "########################################\n",
    "\n",
    "a=ECGBasedModel()\n",
    "a.train(X,Y)\n",
    "# b=a.predict(X[0].reshape(1, -1))\n",
    "a.reportAccuracy(G)\n",
    "# b"
   ]
  },
  {
   "cell_type": "markdown",
   "metadata": {},
   "source": [
    "# Trainers"
   ]
  },
  {
   "cell_type": "code",
   "execution_count": 253,
   "metadata": {},
   "outputs": [],
   "source": [
    "def getTrainData(sensor,minReadingsPerActivity=30):\n",
    "    X=[]\n",
    "    Y=[]\n",
    "    for i in range(minReadingsPerActivity):\n",
    "        for activity in range(1,13):\n",
    "            x,y = sensor.getReading(activity)\n",
    "            X+=list(x)\n",
    "            Y+=[y]\n",
    "    X=np.array(X).reshape(-1,50)\n",
    "    return X,Y"
   ]
  },
  {
   "cell_type": "markdown",
   "metadata": {},
   "source": [
    "## Threading"
   ]
  },
  {
   "cell_type": "code",
   "execution_count": 254,
   "metadata": {},
   "outputs": [],
   "source": [
    "import threading\n",
    "import time\n",
    "import random"
   ]
  },
  {
   "cell_type": "code",
   "execution_count": 275,
   "metadata": {},
   "outputs": [
    {
     "name": "stdout",
     "output_type": "stream",
     "text": [
      "[6.] <-E-|-A-> [1.]\n",
      "[7.] <-E-|-A-> [2.]\n",
      "[3.] <-E-|-A-> [3.]\n",
      "**\n",
      "[9.] <-E-|-A-> [9.]\n",
      "**\n",
      "[6.] <-E-|-A-> [7.]\n",
      "[11.] <-E-|-A-> [11.]\n",
      "**\n",
      "[1.] <-E-|-A-> [2.]\n",
      "[12.] <-E-|-A-> [12.]\n",
      "**\n",
      "[11.] <-E-|-A-> [11.]\n",
      "**\n",
      "[7.] <-E-|-A-> [6.]\n",
      "[5.] <-E-|-A-> [5.]\n",
      "**\n",
      "[3.] <-E-|-A-> [7.]\n",
      "[6.] <-E-|-A-> [3.]\n",
      "[8.] <-E-|-A-> [8.]\n",
      "**\n",
      "[6.] <-E-|-A-> [4.]\n",
      "[4.] <-E-|-A-> [6.]\n",
      "[9.] <-E-|-A-> [9.]\n",
      "**\n",
      "[2.] <-E-|-A-> [6.]\n",
      "[7.] <-E-|-A-> [7.]\n",
      "**\n",
      "[6.] <-E-|-A-> [6.]\n",
      "**\n",
      "[8.] <-E-|-A-> [8.]\n",
      "**\n",
      "[6.] <-E-|-A-> [9.]\n",
      "[3.] <-E-|-A-> [10.]\n",
      "[12.] <-E-|-A-> [10.]\n",
      "[2.] <-E-|-A-> [4.]\n",
      "[1.] <-E-|-A-> [1.]\n",
      "**\n",
      "[12.] <-E-|-A-> [12.]\n",
      "**\n",
      "[5.] <-E-|-A-> [12.]\n",
      "[12.] <-E-|-A-> [10.]\n",
      "[9.] <-E-|-A-> [9.]\n",
      "**\n",
      "[2.] <-E-|-A-> [10.]\n",
      "[2.] <-E-|-A-> [2.]\n",
      "**\n",
      "[3.] <-E-|-A-> [4.]\n",
      "[9.] <-E-|-A-> [9.]\n",
      "**\n",
      "[3.] <-E-|-A-> [1.]\n",
      "[4.] <-E-|-A-> [1.]\n",
      "[10.] <-E-|-A-> [10.]\n",
      "**\n"
     ]
    },
    {
     "ename": "KeyboardInterrupt",
     "evalue": "",
     "output_type": "error",
     "traceback": [
      "\u001b[0;31m---------------------------------------------------------------------------\u001b[0m",
      "\u001b[0;31mKeyboardInterrupt\u001b[0m                         Traceback (most recent call last)",
      "\u001b[0;32m<ipython-input-275-612058fb9dc5>\u001b[0m in \u001b[0;36m<module>\u001b[0;34m()\u001b[0m\n\u001b[1;32m      9\u001b[0m \u001b[0;32mwhile\u001b[0m\u001b[0;34m(\u001b[0m\u001b[0;32mTrue\u001b[0m\u001b[0;34m)\u001b[0m\u001b[0;34m:\u001b[0m\u001b[0;34m\u001b[0m\u001b[0;34m\u001b[0m\u001b[0m\n\u001b[1;32m     10\u001b[0m     \u001b[0mactivity\u001b[0m\u001b[0;34m=\u001b[0m\u001b[0mnp\u001b[0m\u001b[0;34m.\u001b[0m\u001b[0mrandom\u001b[0m\u001b[0;34m.\u001b[0m\u001b[0mrandint\u001b[0m\u001b[0;34m(\u001b[0m\u001b[0;36m1\u001b[0m\u001b[0;34m,\u001b[0m\u001b[0;36m13\u001b[0m\u001b[0;34m)\u001b[0m\u001b[0;34m\u001b[0m\u001b[0;34m\u001b[0m\u001b[0m\n\u001b[0;32m---> 11\u001b[0;31m     \u001b[0mtime\u001b[0m\u001b[0;34m.\u001b[0m\u001b[0msleep\u001b[0m\u001b[0;34m(\u001b[0m\u001b[0;36m1\u001b[0m\u001b[0;34m)\u001b[0m\u001b[0;34m\u001b[0m\u001b[0;34m\u001b[0m\u001b[0m\n\u001b[0m\u001b[1;32m     12\u001b[0m     \u001b[0mGYR_databuffer\u001b[0m\u001b[0;34m,\u001b[0m \u001b[0m_\u001b[0m \u001b[0;34m=\u001b[0m\u001b[0mGyro_sensor\u001b[0m\u001b[0;34m.\u001b[0m\u001b[0mgetReading\u001b[0m\u001b[0;34m(\u001b[0m\u001b[0mactivity\u001b[0m\u001b[0;34m)\u001b[0m\u001b[0;34m\u001b[0m\u001b[0;34m\u001b[0m\u001b[0m\n\u001b[1;32m     13\u001b[0m     \u001b[0mECG_databuffer\u001b[0m\u001b[0;34m,\u001b[0m\u001b[0m__\u001b[0m\u001b[0;34m=\u001b[0m\u001b[0mECG_sensor\u001b[0m\u001b[0;34m.\u001b[0m\u001b[0mgetReading\u001b[0m\u001b[0;34m(\u001b[0m\u001b[0mactivity\u001b[0m\u001b[0;34m)\u001b[0m\u001b[0;34m\u001b[0m\u001b[0;34m\u001b[0m\u001b[0m\n",
      "\u001b[0;31mKeyboardInterrupt\u001b[0m: "
     ]
    }
   ],
   "source": [
    "Gyro_sensor = GyroSensor(freq=50,rawdataFileName=\"mHealth_subject3.log\")\n",
    "ECG_sensor = ECGSensor(freq=50,rawdataFileName=\"mHealth_subject3.log\")\n",
    "A = ActuatorsBasedModel()\n",
    "X,y = getTrainData(Gyro_sensor)\n",
    "A.train(X,y)\n",
    "E = ECGBasedModel()\n",
    "X,y = getTrainData(ECG_sensor)\n",
    "E.train(X,y)\n",
    "while(True):\n",
    "    activity=np.random.randint(1,13)\n",
    "    time.sleep(1)\n",
    "    GYR_databuffer, _ =Gyro_sensor.getReading(activity)\n",
    "    ECG_databuffer,__=ECG_sensor.getReading(activity)\n",
    "    Activity_predited_ECG = E.predict(ECG_databuffer.reshape(1,-1))\n",
    "    Activity_predited_GYR = A.predict(GYR_databuffer.reshape(1,-1))\n",
    "    print(Activity_predited_ECG,'<-E-|-A->',Activity_predited_GYR)\n",
    "    if Activity_predited_ECG == Activity_predited_GYR:\n",
    "        print(\"**\")"
   ]
  },
  {
   "cell_type": "code",
   "execution_count": 177,
   "metadata": {},
   "outputs": [
    {
     "name": "stdout",
     "output_type": "stream",
     "text": [
      "0.5436\n"
     ]
    }
   ],
   "source": [
    "t=0\n",
    "tot=10000\n",
    "for i in range(tot):\n",
    "    x,y = G.getReading(np.random.randint(1,13))\n",
    "    x = np.array(x).reshape(-1,50)\n",
    "    if(y==knn.predict(x)):\n",
    "        t+=1\n",
    "print(t/tot)"
   ]
  },
  {
   "cell_type": "code",
   "execution_count": null,
   "metadata": {},
   "outputs": [],
   "source": [
    "def ECG_Reader():\n",
    "    pass"
   ]
  },
  {
   "cell_type": "code",
   "execution_count": null,
   "metadata": {},
   "outputs": [],
   "source": [
    "def Gyro_Reader():\n",
    "    pass"
   ]
  },
  {
   "cell_type": "code",
   "execution_count": 1,
   "metadata": {},
   "outputs": [
    {
     "name": "stdout",
     "output_type": "stream",
     "text": [
      "1\n",
      "2\n",
      "1\n",
      "1\n",
      "2\n",
      "1\n",
      "1\n",
      "2\n",
      "1\n",
      "1\n",
      "2\n",
      "1\n",
      "1\n",
      "2\n",
      "1\n",
      "2\n",
      "2\n",
      "2\n",
      "2\n",
      "2\n",
      "Done!\n"
     ]
    }
   ],
   "source": [
    "\n",
    "def fun1():\n",
    "      for j in range(10):\n",
    "            print(\"1\")\n",
    "            time.sleep(random.randint(1,5)/10)\n",
    "\n",
    "def fun2():\n",
    "      for i in range(10):\n",
    "            print(\"2\")\n",
    "            time.sleep(random.randint(5,10)/10)\n",
    "\n",
    "if __name__ == \"__main__\": \n",
    "    # creating thread \n",
    "    t1 = threading.Thread(target=fun1) \n",
    "    t2 = threading.Thread(target=fun2) \n",
    "  \n",
    "    # starting thread 1 \n",
    "    t1.start() \n",
    "    # starting thread 2 \n",
    "    t2.start() \n",
    "  \n",
    "    # wait until thread 1 is completely executed \n",
    "    t1.join() \n",
    "    # wait until thread 2 is completely executed \n",
    "    t2.join() \n",
    "  \n",
    "    # both threads completely executed \n",
    "    print(\"Done!\") "
   ]
  },
  {
   "cell_type": "code",
   "execution_count": null,
   "metadata": {},
   "outputs": [],
   "source": []
  }
 ],
 "metadata": {
  "kernelspec": {
   "display_name": "Python 3",
   "language": "python",
   "name": "python3"
  },
  "language_info": {
   "codemirror_mode": {
    "name": "ipython",
    "version": 3
   },
   "file_extension": ".py",
   "mimetype": "text/x-python",
   "name": "python",
   "nbconvert_exporter": "python",
   "pygments_lexer": "ipython3",
   "version": "3.6.8"
  }
 },
 "nbformat": 4,
 "nbformat_minor": 2
}
