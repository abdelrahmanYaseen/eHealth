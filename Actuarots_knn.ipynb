{
 "cells": [
  {
   "cell_type": "code",
   "execution_count": 1,
   "metadata": {},
   "outputs": [
    {
     "data": {
      "text/plain": [
       "['keras.ipynb',\n",
       " 'vgg16.ipynb',\n",
       " 'xGBoost.ipynb',\n",
       " 'Actuarots_knn.ipynb',\n",
       " 'readme.md',\n",
       " 'CNN (colab).ipynb',\n",
       " '.ipynb_checkpoints',\n",
       " 'Actuarots_ERF_1.ipynb',\n",
       " 'CNN (50rps) .ipynb',\n",
       " 'MHEALTHDATASET',\n",
       " 'Random Forest.ipynb',\n",
       " 'self.name_subject3',\n",
       " 'NN.ipynb',\n",
       " '.git']"
      ]
     },
     "execution_count": 1,
     "metadata": {},
     "output_type": "execute_result"
    }
   ],
   "source": [
    "import pandas as pd\n",
    "import numpy as np\n",
    "import matplotlib.pyplot as plt\n",
    "from sklearn import preprocessing\n",
    "from sklearn.model_selection import cross_val_score\n",
    "import sys,os\n",
    "import string\n",
    "import random\n",
    "from sklearn.externals import joblib\n",
    "owd = os.getcwd()\n",
    "os.listdir()"
   ]
  },
  {
   "cell_type": "markdown",
   "metadata": {},
   "source": [
    "# Defining Utility Functions"
   ]
  },
  {
   "cell_type": "code",
   "execution_count": 2,
   "metadata": {},
   "outputs": [],
   "source": [
    "#utility function\n",
    "def getSubjectNum(fileName) :\n",
    "    import re\n",
    "    n = re.findall(r'\\d+', fileName)\n",
    "    return int(n[0])"
   ]
  },
  {
   "cell_type": "code",
   "execution_count": 3,
   "metadata": {},
   "outputs": [],
   "source": [
    "\"\"\"\n",
    "input_filename -- The name of the input file\n",
    "rps -- The number of Readings Per Second (that you want to appear in a single image)\n",
    "figsize -- Figure size (in inches)\n",
    "activities -- a list of numbers that represents the activities you want to consider\n",
    " \n",
    "1- the function considers all the activities by default\n",
    "2- it accepts multiple input files\n",
    "\n",
    "\"\"\"\n",
    "# rps : readingsPerSample\n",
    "def getXY(input_filenames=[\"mHealth_subject3.log\"],rps=50,activities = range(1,13),column=10):\n",
    "    os.chdir(owd)\n",
    "    os.chdir(\"MHEALTHDATASET/\")\n",
    "    counter = 0\n",
    "    X =  np.array([])\n",
    "    Y =  np.array([])\n",
    "    \n",
    "    for input_filename in input_filenames:\n",
    "        counter = 0\n",
    "        df = pd.read_csv(input_filename, header=None, delim_whitespace=True)\n",
    "#         df = df[df[23]!=0] #drop 0 labeled features\n",
    "\n",
    "        readings_df = pd.DataFrame(df[column].copy())\n",
    "        targets_df = pd.DataFrame(df[23].copy())\n",
    "        reading_np = readings_df.values\n",
    "        # #         segmentation\n",
    "        for i in range(int(readings_df.shape[0]/rps)):\n",
    "            if  float(targets_df[i*rps:i*rps+rps].mean()) in activities:\n",
    "                Y=np.append(Y,targets_df[i*rps:i*rps+rps].mean()) #new\n",
    "                X=np.append(X,readings_df[i*rps:i*rps+rps].values)\n",
    "        \n",
    "    X=X.reshape(-1,rps)\n",
    "    os.chdir(owd)\n",
    "    return X,Y\n"
   ]
  },
  {
   "cell_type": "markdown",
   "metadata": {},
   "source": [
    "# Defining initial KNN model"
   ]
  },
  {
   "cell_type": "code",
   "execution_count": 4,
   "metadata": {},
   "outputs": [],
   "source": [
    "from sklearn.model_selection import train_test_split\n",
    "from sklearn.neighbors import KNeighborsClassifier  \n"
   ]
  },
  {
   "cell_type": "code",
   "execution_count": 5,
   "metadata": {},
   "outputs": [],
   "source": [
    "X,y = getXY(column=10,rps=50,activities=[1,2,3,4,5,9,10,11],input_filenames=[\"mHealth_subject3.log\"])\n",
    "# X,y = getXY(column=10,rps=50,activities=range(1,13),input_filenames=[\"mHealth_subject1.log\",\"mHealth_subject3.log\",\"mHealth_subject2.log\",\"mHealth_subject4.log\",\"mHealth_subject5.log\",\"mHealth_subject6.log\",\"mHealth_subject7.log\",\"mHealth_subject8.log\",\"mHealth_subject9.log\",\"mHealth_subject10.log\"])\n",
    "X_train, X_test, y_train, y_test = train_test_split(X, y, test_size=0.20,random_state=42)"
   ]
  },
  {
   "cell_type": "code",
   "execution_count": 6,
   "metadata": {},
   "outputs": [
    {
     "data": {
      "text/plain": [
       "0.9449286026917605"
      ]
     },
     "execution_count": 6,
     "metadata": {},
     "output_type": "execute_result"
    }
   ],
   "source": [
    "knn = KNeighborsClassifier(n_neighbors=1)\n",
    "scores = cross_val_score(knn, X_train, y_train, cv=10, scoring='accuracy')\n",
    "scores.mean()"
   ]
  },
  {
   "cell_type": "markdown",
   "metadata": {},
   "source": [
    "# Finding Best Predictor (Column) in the dataset"
   ]
  },
  {
   "cell_type": "code",
   "execution_count": 7,
   "metadata": {},
   "outputs": [
    {
     "name": "stdout",
     "output_type": "stream",
     "text": [
      "4.17\n",
      "mHealth_subject1.log\n",
      "mHealth_subject2.log\n",
      "mHealth_subject3.log\n",
      "mHealth_subject4.log\n",
      "mHealth_subject5.log\n",
      "mHealth_subject6.log\n",
      "mHealth_subject7.log\n",
      "mHealth_subject8.log\n",
      "mHealth_subject9.log\n",
      "mHealth_subject10.log\n",
      "8.33\n",
      "mHealth_subject1.log\n",
      "mHealth_subject2.log\n",
      "mHealth_subject3.log\n",
      "mHealth_subject4.log\n",
      "mHealth_subject5.log\n",
      "mHealth_subject6.log\n",
      "mHealth_subject7.log\n",
      "mHealth_subject8.log\n",
      "mHealth_subject9.log\n",
      "mHealth_subject10.log\n",
      "12.50\n",
      "mHealth_subject1.log\n",
      "mHealth_subject2.log\n",
      "mHealth_subject3.log\n",
      "mHealth_subject4.log\n",
      "mHealth_subject5.log\n",
      "mHealth_subject6.log\n",
      "mHealth_subject7.log\n",
      "mHealth_subject8.log\n",
      "mHealth_subject9.log\n",
      "mHealth_subject10.log\n",
      "16.67\n",
      "mHealth_subject1.log\n",
      "mHealth_subject2.log\n",
      "mHealth_subject3.log\n",
      "mHealth_subject4.log\n",
      "mHealth_subject5.log\n",
      "mHealth_subject6.log\n",
      "mHealth_subject7.log\n",
      "mHealth_subject8.log\n",
      "mHealth_subject9.log\n",
      "mHealth_subject10.log\n",
      "20.83\n",
      "mHealth_subject1.log\n",
      "mHealth_subject2.log\n",
      "mHealth_subject3.log\n",
      "mHealth_subject4.log\n",
      "mHealth_subject5.log\n",
      "mHealth_subject6.log\n",
      "mHealth_subject7.log\n",
      "mHealth_subject8.log\n",
      "mHealth_subject9.log\n",
      "mHealth_subject10.log\n",
      "25.00\n",
      "mHealth_subject1.log\n",
      "mHealth_subject2.log\n",
      "mHealth_subject3.log\n",
      "mHealth_subject4.log\n",
      "mHealth_subject5.log\n",
      "mHealth_subject6.log\n",
      "mHealth_subject7.log\n",
      "mHealth_subject8.log\n",
      "mHealth_subject9.log\n",
      "mHealth_subject10.log\n",
      "29.17\n",
      "mHealth_subject1.log\n",
      "mHealth_subject2.log\n",
      "mHealth_subject3.log\n",
      "mHealth_subject4.log\n",
      "mHealth_subject5.log\n",
      "mHealth_subject6.log\n",
      "mHealth_subject7.log\n",
      "mHealth_subject8.log\n",
      "mHealth_subject9.log\n",
      "mHealth_subject10.log\n",
      "33.33\n",
      "mHealth_subject1.log\n",
      "mHealth_subject2.log\n",
      "mHealth_subject3.log\n",
      "mHealth_subject4.log\n",
      "mHealth_subject5.log\n",
      "mHealth_subject6.log\n",
      "mHealth_subject7.log\n",
      "mHealth_subject8.log\n",
      "mHealth_subject9.log\n",
      "mHealth_subject10.log\n",
      "37.50\n",
      "mHealth_subject1.log\n",
      "mHealth_subject2.log\n",
      "mHealth_subject3.log\n",
      "mHealth_subject4.log\n",
      "mHealth_subject5.log\n",
      "mHealth_subject6.log\n",
      "mHealth_subject7.log\n",
      "mHealth_subject8.log\n",
      "mHealth_subject9.log\n",
      "mHealth_subject10.log\n",
      "41.67\n",
      "mHealth_subject1.log\n",
      "mHealth_subject2.log\n",
      "mHealth_subject3.log\n",
      "mHealth_subject4.log\n",
      "mHealth_subject5.log\n",
      "mHealth_subject6.log\n",
      "mHealth_subject7.log\n",
      "mHealth_subject8.log\n",
      "mHealth_subject9.log\n",
      "mHealth_subject10.log\n",
      "45.83\n",
      "mHealth_subject1.log\n",
      "mHealth_subject2.log\n",
      "mHealth_subject3.log\n",
      "mHealth_subject4.log\n",
      "mHealth_subject5.log\n",
      "mHealth_subject6.log\n",
      "mHealth_subject7.log\n",
      "mHealth_subject8.log\n",
      "mHealth_subject9.log\n",
      "mHealth_subject10.log\n",
      "50.00\n",
      "mHealth_subject1.log\n",
      "mHealth_subject2.log\n",
      "mHealth_subject3.log\n",
      "mHealth_subject4.log\n",
      "mHealth_subject5.log\n",
      "mHealth_subject6.log\n",
      "mHealth_subject7.log\n",
      "mHealth_subject8.log\n",
      "mHealth_subject9.log\n",
      "mHealth_subject10.log\n",
      "54.17\n",
      "mHealth_subject1.log\n",
      "mHealth_subject2.log\n",
      "mHealth_subject3.log\n",
      "mHealth_subject4.log\n",
      "mHealth_subject5.log\n",
      "mHealth_subject6.log\n",
      "mHealth_subject7.log\n",
      "mHealth_subject8.log\n",
      "mHealth_subject9.log\n",
      "mHealth_subject10.log\n",
      "58.33\n",
      "mHealth_subject1.log\n",
      "mHealth_subject2.log\n",
      "mHealth_subject3.log\n",
      "mHealth_subject4.log\n",
      "mHealth_subject5.log\n",
      "mHealth_subject6.log\n",
      "mHealth_subject7.log\n",
      "mHealth_subject8.log\n",
      "mHealth_subject9.log\n",
      "mHealth_subject10.log\n",
      "62.50\n",
      "mHealth_subject1.log\n",
      "mHealth_subject2.log\n",
      "mHealth_subject3.log\n",
      "mHealth_subject4.log\n",
      "mHealth_subject5.log\n",
      "mHealth_subject6.log\n",
      "mHealth_subject7.log\n",
      "mHealth_subject8.log\n",
      "mHealth_subject9.log\n",
      "mHealth_subject10.log\n",
      "66.67\n",
      "mHealth_subject1.log\n",
      "mHealth_subject2.log\n",
      "mHealth_subject3.log\n",
      "mHealth_subject4.log\n",
      "mHealth_subject5.log\n",
      "mHealth_subject6.log\n",
      "mHealth_subject7.log\n",
      "mHealth_subject8.log\n",
      "mHealth_subject9.log\n",
      "mHealth_subject10.log\n",
      "70.83\n",
      "mHealth_subject1.log\n",
      "mHealth_subject2.log\n",
      "mHealth_subject3.log\n",
      "mHealth_subject4.log\n",
      "mHealth_subject5.log\n",
      "mHealth_subject6.log\n",
      "mHealth_subject7.log\n",
      "mHealth_subject8.log\n",
      "mHealth_subject9.log\n",
      "mHealth_subject10.log\n",
      "75.00\n",
      "mHealth_subject1.log\n",
      "mHealth_subject2.log\n",
      "mHealth_subject3.log\n",
      "mHealth_subject4.log\n",
      "mHealth_subject5.log\n",
      "mHealth_subject6.log\n",
      "mHealth_subject7.log\n",
      "mHealth_subject8.log\n",
      "mHealth_subject9.log\n",
      "mHealth_subject10.log\n",
      "79.17\n",
      "mHealth_subject1.log\n",
      "mHealth_subject2.log\n",
      "mHealth_subject3.log\n",
      "mHealth_subject4.log\n",
      "mHealth_subject5.log\n",
      "mHealth_subject6.log\n",
      "mHealth_subject7.log\n",
      "mHealth_subject8.log\n",
      "mHealth_subject9.log\n",
      "mHealth_subject10.log\n",
      "83.33\n",
      "mHealth_subject1.log\n",
      "mHealth_subject2.log\n",
      "mHealth_subject3.log\n",
      "mHealth_subject4.log\n",
      "mHealth_subject5.log\n",
      "mHealth_subject6.log\n",
      "mHealth_subject7.log\n",
      "mHealth_subject8.log\n",
      "mHealth_subject9.log\n",
      "mHealth_subject10.log\n",
      "87.50\n",
      "mHealth_subject1.log\n",
      "mHealth_subject2.log\n",
      "mHealth_subject3.log\n",
      "mHealth_subject4.log\n",
      "mHealth_subject5.log\n",
      "mHealth_subject6.log\n",
      "mHealth_subject7.log\n",
      "mHealth_subject8.log\n",
      "mHealth_subject9.log\n",
      "mHealth_subject10.log\n",
      "91.67\n",
      "mHealth_subject1.log\n",
      "mHealth_subject2.log\n",
      "mHealth_subject3.log\n",
      "mHealth_subject4.log\n",
      "mHealth_subject5.log\n",
      "mHealth_subject6.log\n",
      "mHealth_subject7.log\n",
      "mHealth_subject8.log\n",
      "mHealth_subject9.log\n",
      "mHealth_subject10.log\n",
      "95.83\n",
      "mHealth_subject1.log\n",
      "mHealth_subject2.log\n",
      "mHealth_subject3.log\n",
      "mHealth_subject4.log\n",
      "mHealth_subject5.log\n",
      "mHealth_subject6.log\n",
      "mHealth_subject7.log\n",
      "mHealth_subject8.log\n",
      "mHealth_subject9.log\n",
      "mHealth_subject10.log\n"
     ]
    }
   ],
   "source": [
    "scores=[]\n",
    "results={\"mHealth_subject1.log\":(0,0),\"mHealth_subject2.log\":(0,0),\"mHealth_subject3.log\":(0,0),\"mHealth_subject4.log\":(0,0),\"mHealth_subject5.log\":(0,0),\"mHealth_subject6.log\":(0,0),\"mHealth_subject7.log\":(0,0),\"mHealth_subject8.log\":(0,0),\"mHealth_subject9.log\":(0,0),\"mHealth_subject10.log\":(0,0)}\n",
    "# best_score=-1\n",
    "labels = [\"acceleration chest (X) \",\"acceleration chest (Y) \",\"acceleration chest (Z)\",\"electrocardiogram signal (lead 1)\",\"electrocardiogram signal (lead 2)\",\"acceleration left-ankle (X) \",\"acceleration left-ankle (Y) \",\"acceleration left-ankle (Z) \",\"gyro left-ankle (X) \",\"gyro left-ankle (Y) \",\"gyro left-ankle (Z) \",\"magnetometer left-ankle (X) \",\"magnetometer left-ankle (Y) \",\"magnetometer left-ankle (Z) \",\"acceleration right-lower-arm (X) \",\"acceleration right-lower-arm (Y) \",\"acceleration right-lower-arm (Z) \",\"gyro right-lower-arm (X) \",\"gyro right-lower-arm (Y) \",\"gyro right-lower-arm (Z) \",\"magnetometer right-lower-arm (X) \",\"magnetometer right-lower-arm (Y) \",\"magnetometer right-lower-arm (Z) \",\"Label\"]\n",
    "files = [\"mHealth_subject1.log\",\"mHealth_subject2.log\",\"mHealth_subject3.log\",\"mHealth_subject4.log\",\"mHealth_subject5.log\",\"mHealth_subject6.log\",\"mHealth_subject7.log\",\"mHealth_subject8.log\",\"mHealth_subject9.log\",\"mHealth_subject10.log\"]\n",
    "for c in range(23):\n",
    "    print('%.2f'%((100*(c+1))/24))\n",
    "    for file_name in files:\n",
    "        print(file_name)\n",
    "        X,y = getXY(column=c,rps=50,activities=[1,2,3,4,5,9,10,11],input_filenames=[file_name])\n",
    "        X_train, X_test, y_train, y_test = train_test_split(X, y, test_size=0.20,random_state=7)\n",
    "        knn = KNeighborsClassifier(n_neighbors=1)\n",
    "        score = cross_val_score(knn, X_train, y_train, cv=10, scoring='accuracy')\n",
    "        if score.mean() > results[file_name][1]:\n",
    "            results[file_name]=(c,score.mean())\n",
    "#         scores+=[score.mean()]\n"
   ]
  },
  {
   "cell_type": "code",
   "execution_count": 10,
   "metadata": {},
   "outputs": [
    {
     "name": "stdout",
     "output_type": "stream",
     "text": [
      "     mHealth_subject1.log ,   acceleration chest (X)  , 0.97\n",
      "     mHealth_subject2.log ,      gyro left-ankle (Z)  , 0.90\n",
      "     mHealth_subject3.log ,   acceleration chest (X)  , 1.00\n",
      "     mHealth_subject4.log ,      gyro left-ankle (Y)  , 0.97\n",
      "     mHealth_subject5.log ,      gyro left-ankle (Z)  , 0.97\n",
      "     mHealth_subject6.log , acceleration right-lower-arm (Y)  , 0.98\n",
      "     mHealth_subject7.log ,      gyro left-ankle (Z)  , 1.00\n",
      "     mHealth_subject8.log ,      gyro left-ankle (Z)  , 1.00\n",
      "     mHealth_subject9.log ,      gyro left-ankle (Y)  , 0.98\n",
      "    mHealth_subject10.log , acceleration right-lower-arm (Y)  , 0.96\n"
     ]
    }
   ],
   "source": [
    "for r  in results:\n",
    "    print(\"%25s , %25s , %.2f\"%(r,labels[results[r][0]],results[r][1]))"
   ]
  },
  {
   "cell_type": "markdown",
   "metadata": {},
   "source": [
    "#### Turned out that the Gyroscope-X that is attached to the ankle is the best predector"
   ]
  },
  {
   "cell_type": "markdown",
   "metadata": {},
   "source": [
    "# Testing the model"
   ]
  },
  {
   "cell_type": "code",
   "execution_count": 13,
   "metadata": {},
   "outputs": [
    {
     "name": "stdout",
     "output_type": "stream",
     "text": [
      "0.9586538461538462\n",
      "Training time :  -1.71661376953125e-05 \n",
      "Prediction Time (per sample): 3.388984916136437e-05\n"
     ]
    },
    {
     "data": {
      "image/png": "[encoded data removed]",
      "text/plain": [
       "<Figure size 1080x720 with 2 Axes>"
      ]
     },
     "metadata": {},
     "output_type": "display_data"
    }
   ],
   "source": [
    "# Example of a confusion matrix in Python\n",
    "from sklearn.metrics import confusion_matrix\n",
    "import seaborn as sn\n",
    "import pandas as pd\n",
    "import matplotlib.pyplot as plt\n",
    "import time\n",
    "\n",
    "X,y = getXY(column=10,rps=50,activities=[1,2,3,4,5,9,10,11],input_filenames=[\"mHealth_subject1.log\"])\n",
    "X_train, X_test, y_train, y_test = train_test_split(X, y, test_size=0.20,random_state=7)\n",
    "# from imblearn.over_sampling import RandomOverSampler\n",
    "# rus = RandomOverSampler()\n",
    "# X_train_us, y_train_us = rus.fit_sample(X_train,y_train)\n",
    "start_time = time.time()\n",
    "knn = KNeighborsClassifier(n_neighbors=1)\n",
    "knn.fit(X_train,y_train)\n",
    "train_time = time.time()\n",
    "start_time = time.time()\n",
    "y_pred=knn.predict(X_test)\n",
    "# y_pred=knn.predict(np.array(X_test[0]).reshape(1,-1))\n",
    "pred_time = time.time()\n",
    "scores = cross_val_score(knn, X, y, cv=10, scoring='accuracy')\n",
    "print(scores.mean())\n",
    "array = confusion_matrix(y_test, y_pred)\n",
    "\n",
    "\n",
    "# min_max_scaler = preprocessing.MinMaxScaler()\n",
    "# array_scaled = min_max_scaler.fit_transform(array)\n",
    "# # df = pandas.DataFrame(array_scaled)\n",
    "array = array.astype('float') / array.sum(axis=1)[:, np.newaxis]\n",
    "\n",
    "\n",
    "\n",
    "df_cm = pd.DataFrame(array, [1,2,3,4,5,9,10,11],[1,2,3,4,5,9,10,11])\n",
    "plt.figure(figsize = (15,10))\n",
    "sn.set(font_scale=1.4)#for label size\n",
    "svm=sn.heatmap(df_cm, annot=True,annot_kws={\"size\": 16})# font size\n",
    "figure = svm.get_figure()\n",
    "# figure.savefig('all_files.png', dpi=400)\n",
    "print('Training time : ',train_time-start_time,'\\nPrediction Time (per sample):', (pred_time-start_time)/len(y_pred))"
   ]
  },
  {
   "cell_type": "markdown",
   "metadata": {},
   "source": [
    "# Looking for the results of other values of k"
   ]
  },
  {
   "cell_type": "code",
   "execution_count": 123,
   "metadata": {},
   "outputs": [],
   "source": [
    "scores=[]\n",
    "files = [\"mHealth_subject3.log\"]\n",
    "X,y = getXY(column=8,rps=50,activities=range(0,12),input_filenames=files)\n",
    "X_train, X_test, y_train, y_test = train_test_split(X, y, test_size=0.10,random_state=7)"
   ]
  },
  {
   "cell_type": "code",
   "execution_count": 64,
   "metadata": {},
   "outputs": [
    {
     "data": {
      "text/plain": [
       "Counter({0.0: 1549,\n",
       "         11.0: 1549,\n",
       "         1.0: 1549,\n",
       "         5.0: 1549,\n",
       "         6.0: 1549,\n",
       "         9.0: 1549,\n",
       "         2.0: 1549,\n",
       "         8.0: 1549,\n",
       "         10.0: 1549,\n",
       "         7.0: 1549,\n",
       "         3.0: 1549,\n",
       "         4.0: 1549})"
      ]
     },
     "execution_count": 64,
     "metadata": {},
     "output_type": "execute_result"
    }
   ],
   "source": [
    "# from collections import Counter\n",
    "# Counter(y_train)\n",
    "# from imblearn.over_sampling import RandomOverSampler\n",
    "# rus = RandomOverSampler()\n",
    "# X_train_us, y_train_us = rus.fit_sample(X_train,y_train)\n",
    "# Counter(y_train_us)"
   ]
  },
  {
   "cell_type": "code",
   "execution_count": 112,
   "metadata": {},
   "outputs": [
    {
     "name": "stdout",
     "output_type": "stream",
     "text": [
      "1   0.9821917329981845\n",
      "3   0.9747116324535678\n",
      "5   0.9692235721267981\n",
      "7   0.9647594609691386\n",
      "9   0.9612630917469627\n",
      "11   0.9580348415025834\n",
      "13   0.9552363496718336\n",
      "15   0.9532994693478566\n",
      "17   0.9512554112554111\n",
      "19   0.949695224130708\n",
      "21   0.9489956011730205\n",
      "23   0.9475967043708978\n"
     ]
    }
   ],
   "source": [
    "scores=[]\n",
    "for k in [x for x in range(25) if x%2 == 1]:\n",
    "    knn = KNeighborsClassifier(n_neighbors=k)\n",
    "    score = cross_val_score(knn, X_train_us, y_train_us, cv=10, scoring='accuracy')\n",
    "    scores+=[score.mean()]\n",
    "    print(k,' ',score.mean())"
   ]
  },
  {
   "cell_type": "code",
   "execution_count": 118,
   "metadata": {},
   "outputs": [
    {
     "data": {
      "text/plain": [
       "Text(0.5, 0, 'K')"
      ]
     },
     "execution_count": 118,
     "metadata": {},
     "output_type": "execute_result"
    },
    {
     "data": {
      "image/png": "[encoded data removed]",
      "text/plain": [
       "<Figure size 792x792 with 1 Axes>"
      ]
     },
     "metadata": {},
     "output_type": "display_data"
    }
   ],
   "source": [
    "plt.figure(figsize=(11,11))\n",
    "plt.plot([x for x in range(25) if x%2 == 1],scores)\n",
    "plt.title(\"Result of K changes\")\n",
    "plt.ylabel(\"Accuracy\")\n",
    "plt.xlabel(\"K\")"
   ]
  },
  {
   "cell_type": "markdown",
   "metadata": {},
   "source": [
    "### K = 1 is the best"
   ]
  },
  {
   "cell_type": "markdown",
   "metadata": {},
   "source": [
    "# Applying the model to all the subjects"
   ]
  },
  {
   "cell_type": "code",
   "execution_count": 127,
   "metadata": {},
   "outputs": [
    {
     "name": "stdout",
     "output_type": "stream",
     "text": [
      "mHealth_subject1.log\n",
      "mHealth_subject2.log\n",
      "mHealth_subject3.log\n",
      "mHealth_subject4.log\n",
      "mHealth_subject5.log\n",
      "mHealth_subject6.log\n",
      "mHealth_subject7.log\n",
      "mHealth_subject8.log\n",
      "mHealth_subject9.log\n",
      "mHealth_subject10.log\n"
     ]
    }
   ],
   "source": [
    "scores=[]\n",
    "from sklearn import model_selection\n",
    "for file in[\"mHealth_subject1.log\",\"mHealth_subject2.log\",\"mHealth_subject3.log\",\"mHealth_subject4.log\",\"mHealth_subject5.log\",\"mHealth_subject6.log\",\"mHealth_subject7.log\",\"mHealth_subject8.log\",\"mHealth_subject9.log\",\"mHealth_subject10.log\"] :\n",
    "    print(file)\n",
    "    X,y = getXY(column=10,rps=50,activities=range(1,12),input_filenames=[file])\n",
    "    X_train, X_test, y_train, y_test = train_test_split(X, y, test_size=0.20,random_state=7)\n",
    "    knn = KNeighborsClassifier(n_neighbors=1)\n",
    "    kfold = model_selection.KFold(n_splits=10, random_state=4)\n",
    "    cv_results = model_selection.cross_val_score(knn, X, y, cv=kfold, scoring=\"accuracy\")\n",
    "    score = cross_val_score(knn, X_train, y_train, cv=10, scoring='accuracy')\n",
    "    scores+=[score.mean()]"
   ]
  },
  {
   "cell_type": "code",
   "execution_count": 129,
   "metadata": {},
   "outputs": [
    {
     "data": {
      "image/png": "[encoded data removed]",
      "text/plain": [
       "<Figure size 720x720 with 1 Axes>"
      ]
     },
     "metadata": {},
     "output_type": "display_data"
    }
   ],
   "source": [
    "x = [\"Subject_%d\"%i for i in range(1,11)]\n",
    "y = scores\n",
    "\n",
    "# fig, ax = plt.subplots()  \n",
    "fig = plt.figure(figsize=(10,10))\n",
    "ax = fig.add_subplot(111)\n",
    "width = 2 # the width of the bars \n",
    "ind = np.arange(len(y))  # the x locations for the groups\n",
    "ind = 5*ind\n",
    "ax.barh(ind, y, width, color=\"black\")\n",
    "ax.set_yticks(ind+width/2)\n",
    "ax.set_yticklabels(x)\n",
    "plt.title('mHealth Dataset anckle-gyro-Z-based predection using KNN(K=1) (rps=50)')\n",
    "plt.xlabel('10-fold cross validation accuracy')\n",
    "for i, v in enumerate(y):\n",
    "    ax.text(v, i*5, \"%.2f\"%(v), color='blue', fontsize=12)\n",
    "#plt.show()"
   ]
  },
  {
   "cell_type": "code",
   "execution_count": null,
   "metadata": {},
   "outputs": [],
   "source": []
  }
 ],
 "metadata": {
  "kernelspec": {
   "display_name": "Python 3",
   "language": "python",
   "name": "python3"
  },
  "language_info": {
   "codemirror_mode": {
    "name": "ipython",
    "version": 3
   },
   "file_extension": ".py",
   "mimetype": "text/x-python",
   "name": "python",
   "nbconvert_exporter": "python",
   "pygments_lexer": "ipython3",
   "version": "3.6.8"
  }
 },
 "nbformat": 4,
 "nbformat_minor": 2
}
