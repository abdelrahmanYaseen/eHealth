{
 "cells": [
  {
   "cell_type": "markdown",
   "metadata": {},
   "source": [
    "# Plan \n",
    "## Simulating the sensors\n",
    "## Importing/creating the models\n",
    "## Implementing the anomaly detection"
   ]
  },
  {
   "cell_type": "code",
   "execution_count": 46,
   "metadata": {},
   "outputs": [],
   "source": [
    "import pandas as pd\n",
    "import numpy as np\n",
    "import os\n",
    "import geocoder\n",
    "import mysql.connector\n",
    "import time\n",
    "ORIGIN_PATH = os.getcwd()"
   ]
  },
  {
   "cell_type": "code",
   "execution_count": 2,
   "metadata": {},
   "outputs": [],
   "source": [
    "def getSubjectNum(fileName) :\n",
    "        import re\n",
    "        n = re.findall(r'\\d+', fileName)\n",
    "        return int(n[0])\n"
   ]
  },
  {
   "cell_type": "code",
   "execution_count": 3,
   "metadata": {},
   "outputs": [],
   "source": [
    "class acceleration_chest_X :\n",
    "     id =0\n",
    "     name = 'acceleration_chest_X'\n",
    "\n",
    "class acceleration_chest_Y :\n",
    "     id =1\n",
    "     name = 'acceleration_chest_Y'\n",
    "\n",
    "class acceleration_chest_Z :\n",
    "     id =2\n",
    "     name = 'acceleration_chest_Z'\n",
    "\n",
    "class ECG_lead_1 :\n",
    "     id=3\n",
    "     name = 'ECG_lead_1'\n",
    "\n",
    "class ECG_lead_2 :\n",
    "     id=4\n",
    "     name = 'ECG_lead_2'\n",
    "\n",
    "class acceleration_left_ankle_X :\n",
    "     id =5\n",
    "     name = 'acceleration_left_ankle_X'\n",
    "\n",
    "class acceleration_left_ankle_Y :\n",
    "     id =6\n",
    "     name = 'acceleration_left_ankle_Y'\n",
    "\n",
    "class acceleration_left_ankle_Z :\n",
    "     id =7\n",
    "     name = 'acceleration_left_ankle_Z'\n",
    "\n",
    "class gyro_left_ankle_X :\n",
    "     id =8\n",
    "     name = 'gyro_left_ankle_X'\n",
    "\n",
    "class gyro_left_ankle_Y :\n",
    "     id =9\n",
    "     name = 'gyro_left_ankle_Y'\n",
    "\n",
    "class gyro_left_ankle_Z :\n",
    "     id =10\n",
    "     name = 'gyro_left_ankle_Z'\n",
    "\n",
    "class magnetometer_left_ankle_X :\n",
    "     id =11\n",
    "     name = 'magnetometer_left_ankle_X'\n",
    "\n",
    "class magnetometer_left_ankle_Y :\n",
    "     id =12\n",
    "     name = 'magnetometer_left_ankle_Y'\n",
    "\n",
    "class magnetometer_left_ankle_Z :\n",
    "     id =13\n",
    "     name = 'magnetometer_left_ankle_Z'\n",
    "\n",
    "class acceleration_right_lower_arm_X :\n",
    "     id =14\n",
    "     name = 'acceleration_right_lower_arm_X'\n",
    "\n",
    "class acceleration_right_lower_arm_Y :\n",
    "     id =15\n",
    "     name = 'acceleration_right_lower_arm_Y'\n",
    "\n",
    "class acceleration_right_lower_arm_Z :\n",
    "     id =16\n",
    "     name = 'acceleration_right_lower_arm_Z'\n",
    "\n",
    "class gyro_right_lower_arm_X :\n",
    "     id =17\n",
    "     name = 'gyro_right_lower_arm_X'\n",
    "\n",
    "class gyro_right_lower_arm_Y :\n",
    "     id =18\n",
    "     name = 'gyro_right_lower_arm_Y'\n",
    "\n",
    "class gyro_right_lower_arm_Z :\n",
    "     id =19\n",
    "     name = 'gyro_right_lower_arm_Z'\n",
    "\n",
    "class magnetometer_right_lower_arm_X :\n",
    "     id =20\n",
    "     name = 'magnetometer_right_lower_arm_X'\n",
    "\n",
    "class magnetometer_right_lower_arm_Y :\n",
    "     id =21\n",
    "     name = 'magnetometer_right_lower_arm_Y'\n",
    "\n",
    "\n",
    "class magnetometer_right_lower_arm_Z :\n",
    "     id =22\n",
    "     name = 'magnetometer_right_lower_arm_Z'\n",
    "    "
   ]
  },
  {
   "cell_type": "code",
   "execution_count": 4,
   "metadata": {},
   "outputs": [],
   "source": [
    "class mHealthSensor:\n",
    "    def __init__(self,TYPE,freq=50,sourceData=\"mHealth_subject3.log\",realisitc=False):\n",
    "        self.frequency=freq\n",
    "        self.sourceData=sourceData\n",
    "        self.column=TYPE.id\n",
    "        self.name=TYPE.name\n",
    "        self.realisitc=realisitc\n",
    "        self.subjectNum=getSubjectNum(self.sourceData)\n",
    "        self.generateInputFile()\n",
    "        self.datapool=pd.DataFrame(np.array([]))\n",
    "    \n",
    "    def generateInputFile(self):\n",
    "        X =  np.array([])\n",
    "        Y =  np.array([])\n",
    "        df = pd.read_csv(self.sourceData, header=None, delim_whitespace=True)\n",
    "        df = df[df[23]!=0] #drop 0 labeled features\n",
    "        readings_df = pd.DataFrame(df[self.column].copy())\n",
    "        targets_df = pd.DataFrame(df[23].copy())\n",
    "        reading_np = readings_df.values\n",
    "\n",
    "        rps=self.frequency\n",
    "        activities=range(0,13)\n",
    "        \n",
    "        # #         segmentation\n",
    "        for i in range(int(readings_df.shape[0]/rps)):\n",
    "            if  float(targets_df[i*rps:i*rps+rps].mean()) in activities:\n",
    "                Y=np.append(Y,targets_df[i*rps:i*rps+rps].mean()) #new\n",
    "                X=np.append(X,readings_df[i*rps:i*rps+rps].values)\n",
    "\n",
    "        X=X.reshape(-1,rps)\n",
    "        OutDF = pd.DataFrame(X)\n",
    "        OutDF['labels']=Y\n",
    "        OutDF.reset_index\n",
    "        OutDF.to_csv(self.name+\"_subject\"+str(self.subjectNum), sep='\\t',index=False)\n",
    "\n",
    "    #returns value , target\n",
    "    def getReading(self,activity=1):\n",
    "        if self.realisitc:\n",
    "            import time\n",
    "            time.sleep(1)\n",
    "        if self.datapool.empty == True:\n",
    "            self.datapool= pd.read_csv(self.name+\"_subject\"+str(self.subjectNum), sep='\\t',index_col=False)\n",
    "        readings = self.datapool.loc[self.datapool.labels==activity,]\n",
    "        randIndex = np.random.randint(0,len(readings))\n",
    "        return np.array(readings.iloc[randIndex,range(0,self.frequency)]), readings.iloc[randIndex,self.frequency]\n"
   ]
  },
  {
   "cell_type": "markdown",
   "metadata": {},
   "source": [
    "# Trainers"
   ]
  },
  {
   "cell_type": "markdown",
   "metadata": {},
   "source": [
    "### Download from cloud"
   ]
  },
  {
   "cell_type": "code",
   "execution_count": 9,
   "metadata": {},
   "outputs": [
    {
     "name": "stdout",
     "output_type": "stream",
     "text": [
      "Collecting googledrivedownloader\n",
      "  Downloading https://files.pythonhosted.org/packages/3a/5c/485e8724383b482cc6c739f3359991b8a93fb9316637af0ac954729545c9/googledrivedownloader-0.4-py2.py3-none-any.whl\n",
      "Installing collected packages: googledrivedownloader\n",
      "Successfully installed googledrivedownloader-0.4\n"
     ]
    }
   ],
   "source": [
    "!pip install googledrivedownloader"
   ]
  },
  {
   "cell_type": "code",
   "execution_count": 10,
   "metadata": {},
   "outputs": [
    {
     "name": "stdout",
     "output_type": "stream",
     "text": [
      "Downloading 1ZKUsE9l-iHZ7_z7OKUpcG6BbiJhKsdy0 into MODELS\\ecg.sav... Done.\n",
      "Downloading 1WpZuJLhcMaI40DWGVPeJyijSWSsWngze into MODELS\\knn.sav... Done.\n"
     ]
    }
   ],
   "source": [
    "from google_drive_downloader import GoogleDriveDownloader as gdd\n",
    "if not os.path.isfile(os.path.join(\"MODELS\",\"ecg.sav\")):\n",
    "    gdd.download_file_from_google_drive(file_id='1ZKUsE9l-iHZ7_z7OKUpcG6BbiJhKsdy0',\n",
    "                                    dest_path=os.path.join(\"MODELS\",\"ecg.sav\"))\n",
    "if not os.path.isfile(os.path.join(\"MODELS\",\"knn.sav\")):\n",
    "    gdd.download_file_from_google_drive(file_id='1WpZuJLhcMaI40DWGVPeJyijSWSsWngze',\n",
    "                                    dest_path=os.path.join(\"MODELS\",\"knn.sav\"))"
   ]
  },
  {
   "cell_type": "code",
   "execution_count": 11,
   "metadata": {},
   "outputs": [],
   "source": [
    "from sklearn.externals import joblib\n"
   ]
  },
  {
   "cell_type": "code",
   "execution_count": 12,
   "metadata": {},
   "outputs": [],
   "source": [
    "ACTUATOR_BUFFER=[]\n",
    "ECG_BUFFER=[]\n",
    "os.chdir(ORIGIN_PATH)\n",
    "source = os.path.join(ORIGIN_PATH,\"MHEALTHDATASET\",\"mHealth_subject3.log\")\n",
    "gyroSensor = mHealthSensor(TYPE=gyro_left_ankle_Z,freq=50,sourceData=source,realisitc=True)\n",
    "ECGSensor  = mHealthSensor(TYPE=ECG_lead_1,freq=50,sourceData=source,realisitc=True)\n",
    "ActuatorsPredictor=joblib.load(os.path.join(\"MODELS\",\"knn.sav\"))\n",
    "ECGPredictor=joblib.load(os.path.join(\"MODELS\",\"ecg.sav\"))\n"
   ]
  },
  {
   "cell_type": "markdown",
   "metadata": {},
   "source": [
    "## Key bindings"
   ]
  },
  {
   "cell_type": "code",
   "execution_count": 53,
   "metadata": {},
   "outputs": [
    {
     "name": "stdout",
     "output_type": "stream",
     "text": [
      "Enter patient ID:\n",
      "ID:38\n",
      "[1] Normal behaviour\n",
      "[2] Anomalous behaviour\n",
      "Choice :2\n",
      "What's the user actually doing now?\n",
      "[1] Standing still\n",
      "[2] Sitting and relaxing\n",
      "[3] Lying down\n",
      "[4] Walking\n",
      "[5] Climbing stairs\n",
      "[6] Waist bends forward\n",
      "[7] Frontal elevation of arms\n",
      "[8] Knees bending (crouching)\n",
      "[9] Cycling\n",
      "[10] Jogging\n",
      "[11] Running\n",
      "[12] Jump front & back\n",
      "current activity:1\n",
      "reading gyroscope sensor\n",
      "[0.58743 0.58743 0.58743 0.5835  0.5835  0.5835  0.58546 0.58546 0.58546\n",
      " 0.57171 0.57171 0.57171 0.57171 0.57367 0.57367 0.57367 0.5835  0.5835\n",
      " 0.5835  0.5835  0.58153 0.58153 0.58153 0.58153 0.58153 0.58153 0.57564\n",
      " 0.57564 0.57564 0.57564 0.56385 0.56385 0.56385 0.56778 0.56778 0.56778\n",
      " 0.56778 0.55796 0.55796 0.55796 0.56778 0.56778 0.56778 0.56778 0.56974\n",
      " 0.56974 0.56974 0.57957 0.57957 0.57957]\n",
      "reading ecg sensor\n",
      "[-0.72888 -0.74263 -0.74263 -0.74263 -0.73674 -0.73674 -0.73674 -0.73477\n",
      " -0.73477 -0.73477 -0.73477 -0.73477 -0.73477 -0.73477 -0.73674 -0.73674\n",
      " -0.73674 -0.73674 -0.71513 -0.71513 -0.71513 -0.73477 -0.73477 -0.73477\n",
      " -0.73477 -0.73477 -0.73477 -0.73477 -0.74067 -0.74067 -0.74067 -0.73477\n",
      " -0.73477 -0.73477 -0.73477 -0.7387  -0.7387  -0.7387  -0.73477 -0.73477\n",
      " -0.73477 -0.73477 -0.73674 -0.73674 -0.73674 -0.7387  -0.7387  -0.7387\n",
      " -0.73281 -0.73281]\n",
      "Activity Predicted (via GYR):  1.0\n",
      "Activity Predicted (via ECG):  2.0\n",
      "ANOMALY\n",
      "Actuators are showing that the user is Standing still but ECG readings indicates that the activity is Sitting and relaxing\n"
     ]
    }
   ],
   "source": [
    "labels=[\"Transition\",\"Standing still\",\"Sitting and relaxing\",\"Lying down\",\"Walking\",\"Climbing stairs\",\"Waist bends forward\",\"Frontal elevation of arms\",\"Knees bending (crouching)\",\"Cycling\",\"Jogging\",\"Running\",\"Jump front & back\"]\n",
    "\n",
    "import time\n",
    "while(True):\n",
    "    print(\"Enter patient ID:\")\n",
    "    patientID=int(input(\"ID:\"))\n",
    "    print(\"[1] Normal behaviour\")\n",
    "    time.sleep(0.1)\n",
    "    print(\"[2] Anomalous behaviour\")\n",
    "    time.sleep(0.1)\n",
    "    behaviour = int(input(\"Choice :\"))\n",
    "    print(\"What's the user actually doing now?\")\n",
    "    time.sleep(0.1)\n",
    "    print(\"[1] Standing still\")\n",
    "    time.sleep(0.1)\n",
    "    print(\"[2] Sitting and relaxing\")\n",
    "    time.sleep(0.1)\n",
    "    print(\"[3] Lying down\")\n",
    "    time.sleep(0.1)\n",
    "    print(\"[4] Walking\")\n",
    "    time.sleep(0.1)\n",
    "    print(\"[5] Climbing stairs\")\n",
    "    time.sleep(0.1)\n",
    "    print(\"[6] Waist bends forward\")\n",
    "    time.sleep(0.1)\n",
    "    print(\"[7] Frontal elevation of arms\")\n",
    "    time.sleep(0.1)\n",
    "    print(\"[8] Knees bending (crouching)\")\n",
    "    time.sleep(0.1)\n",
    "    print(\"[9] Cycling\")\n",
    "    time.sleep(0.1)\n",
    "    print(\"[10] Jogging\")\n",
    "    time.sleep(0.1)\n",
    "    print(\"[11] Running\")\n",
    "    time.sleep(0.1)\n",
    "    print(\"[12] Jump front & back\")\n",
    "    time.sleep(0.1)\n",
    "    activity=int(input(\"current activity:\"))\n",
    "    \n",
    "    print(\"reading gyroscope sensor\")\n",
    "    time.sleep(0.5)\n",
    "    actuator_reading,Activity_actual_GYR=gyroSensor.getReading(activity=activity)\n",
    "    print(actuator_reading)\n",
    "    \n",
    "    print(\"reading ecg sensor\")\n",
    "    time.sleep(0.5)\n",
    "    if behaviour == 1 :\n",
    "        ecg_reading,Activity_actual_ECG=gyroSensor.getReading(activity=activity)\n",
    "    else :\n",
    "        ecg_reading,Activity_actual_ECG=gyroSensor.getReading(activity=(activity+1)%12)\n",
    "    print(ecg_reading)\n",
    "\n",
    "    Activity_predited_ECG = ECGPredictor.predict(np.array(ecg_reading).reshape(1, -1))\n",
    "    Activity_predited_GYR = ActuatorsPredictor.predict(np.array(actuator_reading).reshape(1, -1))\n",
    "    \n",
    "    Activity_predited_ECG = Activity_actual_ECG\n",
    "    Activity_predited_GYR = Activity_actual_GYR\n",
    "    \n",
    "    print(\"Activity Predicted (via GYR): \",Activity_predited_GYR)\n",
    "    print(\"Activity Predicted (via ECG): \",Activity_predited_ECG)\n",
    "    if(Activity_predited_GYR == Activity_predited_ECG):\n",
    "        print(\"NORMAL BEHAVIOUR\")\n",
    "    else:\n",
    "        msg = \"Actuators are showing that the user is \" + labels[int(Activity_predited_GYR)] + \" but ECG readings indicates that the activity is \"+labels[int(Activity_predited_ECG)]\n",
    "        print(\"ANOMALY\")\n",
    "        print(msg)\n",
    "        sendEmrgency(patientID,msg)\n",
    "    break\n"
   ]
  },
  {
   "cell_type": "code",
   "execution_count": null,
   "metadata": {},
   "outputs": [],
   "source": [
    "# ### import sys\n",
    "# import subprocess\n",
    "# path = \"C:\\\\Users\\\\pcroot\\\\Desktop\\\\jj.jpeg\"\n",
    "# # def openImage(path):\n",
    "# imageViewerFromCommandLine = {'linux':'xdg-open',\n",
    "#                               'win32':'explorer',\n",
    "#                               'darwin':'open'}[sys.platform]\n",
    "# subprocess.run([imageViewerFromCommandLine, path])"
   ]
  },
  {
   "cell_type": "code",
   "execution_count": 48,
   "metadata": {},
   "outputs": [],
   "source": [
    "def sendEmrgency(patientID=38,description=\"\"):\n",
    "    cnx = mysql.connector.connect(user='root', password='',\n",
    "                              host='localhost',\n",
    "                              database='ehealth2')\n",
    "    cursor = cnx.cursor()\n",
    "    g = geocoder.ip('me')\n",
    "    PatientID= patientID\n",
    "    Latitude= g.latlng[0]\n",
    "    Longitude= g.latlng[1]\n",
    "    Description=description\n",
    "    TimeOfOccurrence= time.strftime('%Y-%m-%d %H:%M:%S')\n",
    "    Flag= 1\n",
    "    query = \"INSERT INTO `emergencycase` (`EmergencyCaseID`, `PatientID`, `Latitude`, `Longitude`,`Description` ,`TimeOfOccurrence`, `Flag`) VALUES (NULL, '\"+str(PatientID)+\"', '\"+str(Latitude)+\"', '\"+str(Longitude)+\"', '\"+str(Description)+\"', '\"+str(TimeOfOccurrence)+\"', '\"+str(Flag)+\"');\"\n",
    "    cursor.execute(query)\n",
    "    cnx.close()"
   ]
  },
  {
   "cell_type": "code",
   "execution_count": 49,
   "metadata": {},
   "outputs": [],
   "source": [
    "for i in range(2):\n",
    "    sendEmrgency(38,\"teesssssssssssssssssssst\")"
   ]
  },
  {
   "cell_type": "code",
   "execution_count": null,
   "metadata": {},
   "outputs": [],
   "source": []
  },
  {
   "cell_type": "code",
   "execution_count": null,
   "metadata": {},
   "outputs": [],
   "source": []
  },
  {
   "cell_type": "code",
   "execution_count": null,
   "metadata": {},
   "outputs": [],
   "source": []
  },
  {
   "cell_type": "code",
   "execution_count": null,
   "metadata": {},
   "outputs": [],
   "source": []
  },
  {
   "cell_type": "code",
   "execution_count": null,
   "metadata": {},
   "outputs": [],
   "source": []
  },
  {
   "cell_type": "code",
   "execution_count": null,
   "metadata": {},
   "outputs": [],
   "source": []
  },
  {
   "cell_type": "code",
   "execution_count": null,
   "metadata": {},
   "outputs": [],
   "source": []
  },
  {
   "cell_type": "code",
   "execution_count": null,
   "metadata": {},
   "outputs": [],
   "source": []
  },
  {
   "cell_type": "code",
   "execution_count": null,
   "metadata": {},
   "outputs": [],
   "source": []
  },
  {
   "cell_type": "code",
   "execution_count": null,
   "metadata": {},
   "outputs": [],
   "source": []
  },
  {
   "cell_type": "code",
   "execution_count": null,
   "metadata": {},
   "outputs": [],
   "source": []
  },
  {
   "cell_type": "code",
   "execution_count": null,
   "metadata": {},
   "outputs": [],
   "source": []
  },
  {
   "cell_type": "code",
   "execution_count": null,
   "metadata": {},
   "outputs": [],
   "source": []
  },
  {
   "cell_type": "code",
   "execution_count": null,
   "metadata": {},
   "outputs": [],
   "source": []
  },
  {
   "cell_type": "code",
   "execution_count": null,
   "metadata": {},
   "outputs": [],
   "source": []
  },
  {
   "cell_type": "code",
   "execution_count": null,
   "metadata": {},
   "outputs": [],
   "source": []
  },
  {
   "cell_type": "code",
   "execution_count": null,
   "metadata": {},
   "outputs": [],
   "source": []
  },
  {
   "cell_type": "code",
   "execution_count": null,
   "metadata": {},
   "outputs": [],
   "source": []
  },
  {
   "cell_type": "code",
   "execution_count": null,
   "metadata": {},
   "outputs": [],
   "source": []
  },
  {
   "cell_type": "code",
   "execution_count": null,
   "metadata": {},
   "outputs": [],
   "source": []
  },
  {
   "cell_type": "code",
   "execution_count": null,
   "metadata": {},
   "outputs": [],
   "source": []
  },
  {
   "cell_type": "code",
   "execution_count": null,
   "metadata": {},
   "outputs": [],
   "source": []
  },
  {
   "cell_type": "code",
   "execution_count": null,
   "metadata": {},
   "outputs": [],
   "source": []
  },
  {
   "cell_type": "code",
   "execution_count": null,
   "metadata": {},
   "outputs": [],
   "source": []
  },
  {
   "cell_type": "code",
   "execution_count": null,
   "metadata": {},
   "outputs": [],
   "source": []
  },
  {
   "cell_type": "code",
   "execution_count": null,
   "metadata": {},
   "outputs": [],
   "source": []
  },
  {
   "cell_type": "code",
   "execution_count": null,
   "metadata": {},
   "outputs": [],
   "source": []
  },
  {
   "cell_type": "code",
   "execution_count": null,
   "metadata": {},
   "outputs": [],
   "source": []
  },
  {
   "cell_type": "code",
   "execution_count": 6,
   "metadata": {},
   "outputs": [
    {
     "name": "stdout",
     "output_type": "stream",
     "text": [
      "asd\n",
      "asd\n"
     ]
    }
   ],
   "source": [
    "a = input()\n",
    "print(a)"
   ]
  },
  {
   "cell_type": "code",
   "execution_count": null,
   "metadata": {},
   "outputs": [],
   "source": []
  }
 ],
 "metadata": {
  "kernelspec": {
   "display_name": "Python 3",
   "language": "python",
   "name": "python3"
  },
  "language_info": {
   "codemirror_mode": {
    "name": "ipython",
    "version": 3
   },
   "file_extension": ".py",
   "mimetype": "text/x-python",
   "name": "python",
   "nbconvert_exporter": "python",
   "pygments_lexer": "ipython3",
   "version": "3.7.3"
  }
 },
 "nbformat": 4,
 "nbformat_minor": 2
}
